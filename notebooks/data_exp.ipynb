{
 "cells": [
  {
   "cell_type": "code",
   "execution_count": 46,
   "metadata": {},
   "outputs": [],
   "source": [
    "import os\n",
    "import cv2\n",
    "import pandas as pd\n",
    "import numpy as np\n",
    "# import matplotlib.pyplot as plt\n",
    "from sklearn.model_selection import train_test_split\n",
    "import random\n",
    "from math import ceil\n",
    "import tensorflow as tf\n",
    "\n",
    "random.seed(42)"
   ]
  },
  {
   "cell_type": "code",
   "execution_count": 16,
   "metadata": {},
   "outputs": [
    {
     "data": {
      "text/plain": [
       "'/home/abraham-pc/Documents/paid_gigs/malaria_prediction_cv'"
      ]
     },
     "execution_count": 16,
     "metadata": {},
     "output_type": "execute_result"
    }
   ],
   "source": [
    "os.chdir('..')\n",
    "os.getcwd()"
   ]
  },
  {
   "cell_type": "code",
   "execution_count": 7,
   "metadata": {},
   "outputs": [],
   "source": [
    "def scan_directory(directory: str, extension: str) -> list:\n",
    "    \"\"\"Check specified directory and return list of files with\n",
    "    specified extension\n",
    "\n",
    "    Args:\n",
    "        directory (str): path string to directory e.g. \"./the/directory\"\n",
    "        extension (str): extension type to be searched for e.g. \".csv\"\n",
    "\n",
    "    Returns:\n",
    "        list: strings of file names with specified extension\n",
    "    \"\"\"    \n",
    "    files: list = []\n",
    "    for filename in os.listdir(directory):\n",
    "        if filename.endswith(extension):\n",
    "            files.append(filename)\n",
    "    return files"
   ]
  },
  {
   "cell_type": "code",
   "execution_count": 13,
   "metadata": {},
   "outputs": [],
   "source": [
    "raw_path = './data/raw/SpeciesDataset/'\n",
    "raw_train_path = 'train/'\n",
    "raw_test_path = 'test/'\n",
    "species = ['Falciparum', 'Malariae', 'Ovale', 'Vivax']\n",
    "\n",
    "interim_path = './data/interim/'\n",
    "\n",
    "# for split in [raw_train_path, raw_test_path]:\n",
    "#     for specie in species:\n",
    "#         os.makedirs(interim_path + specie, exist_ok=True)\n",
    "#         for image in scan_directory(raw_path + split + specie, '.png'):\n",
    "#             png_img = cv2.imread(image)\n",
    "#             cv2.imwrite(interim_path + specie + '/' + image[:-4] + '.jpg', png_img, [int(cv2.IMWRITE_JPEG_QUALITY), 100])\n"
   ]
  },
  {
   "cell_type": "code",
   "execution_count": 17,
   "metadata": {},
   "outputs": [],
   "source": [
    "# split data into train and test by species\n",
    "data_reference = pd.DataFrame(columns=['image', 'species'])\n",
    "\n",
    "for specie in species:\n",
    "    if specie == 'Falciparum':\n",
    "        all_images = scan_directory(interim_path + specie, '.jpg')\n",
    "        images = random.sample(all_images, ceil(np.mean([76, 31, 62])))\n",
    "        full_images_path = [interim_path + specie + '/' + image for image in images]\n",
    "        specie_df = pd.DataFrame({'image': full_images_path, 'species': specie})\n",
    "        data_reference = pd.concat([data_reference, specie_df])\n",
    "    else:\n",
    "        images = scan_directory(interim_path + specie, '.jpg')\n",
    "        full_images_path = [interim_path + specie + '/' + image for image in images]\n",
    "        specie_df = pd.DataFrame({'image': full_images_path, 'species': specie})\n",
    "        data_reference = pd.concat([data_reference, specie_df])\n",
    "\n",
    "\n",
    "train_df, test_df = train_test_split(\n",
    "    data_reference,\n",
    "    stratify=data_reference['species'],\n",
    "    test_size=0.2,\n",
    "    random_state=42\n",
    ")\n"
   ]
  },
  {
   "cell_type": "code",
   "execution_count": 27,
   "metadata": {},
   "outputs": [
    {
     "data": {
      "text/plain": [
       "species\n",
       "Vivax         76\n",
       "Malariae      62\n",
       "Falciparum    57\n",
       "Ovale         31\n",
       "Name: count, dtype: int64"
      ]
     },
     "execution_count": 27,
     "metadata": {},
     "output_type": "execute_result"
    }
   ],
   "source": [
    "data_reference['species'].value_counts()"
   ]
  },
  {
   "cell_type": "code",
   "execution_count": 25,
   "metadata": {},
   "outputs": [
    {
     "data": {
      "text/plain": [
       "species\n",
       "Vivax         61\n",
       "Malariae      49\n",
       "Falciparum    45\n",
       "Ovale         25\n",
       "Name: count, dtype: int64"
      ]
     },
     "execution_count": 25,
     "metadata": {},
     "output_type": "execute_result"
    }
   ],
   "source": [
    "train_df['species'].value_counts()"
   ]
  },
  {
   "cell_type": "code",
   "execution_count": 26,
   "metadata": {},
   "outputs": [
    {
     "data": {
      "text/plain": [
       "species\n",
       "Vivax         15\n",
       "Malariae      13\n",
       "Falciparum    12\n",
       "Ovale          6\n",
       "Name: count, dtype: int64"
      ]
     },
     "execution_count": 26,
     "metadata": {},
     "output_type": "execute_result"
    }
   ],
   "source": [
    "test_df['species'].value_counts()"
   ]
  },
  {
   "cell_type": "code",
   "execution_count": 49,
   "metadata": {},
   "outputs": [
    {
     "name": "stdout",
     "output_type": "stream",
     "text": [
      "Found 180 validated image filenames belonging to 4 classes.\n",
      "Found 46 validated image filenames.\n"
     ]
    }
   ],
   "source": [
    "# Create train data generator\n",
    "processed_path = './data/processed/'\n",
    "processed_train_path = 'train/'\n",
    "processed_test_path = 'test/'\n",
    "os.makedirs(processed_path + processed_train_path, exist_ok=True)\n",
    "os.makedirs(processed_path + processed_test_path, exist_ok=True)\n",
    "train_path = processed_path + processed_train_path\n",
    "test_path = processed_path + processed_test_path\n",
    "\n",
    "\n",
    "train_datagen = tf.keras.preprocessing.image.ImageDataGenerator(\n",
    "    rescale=1./255,\n",
    "    shear_range=0.2,\n",
    "    zoom_range=0.2,\n",
    "    horizontal_flip=True\n",
    ")\n",
    "train_generator = train_datagen.flow_from_dataframe(\n",
    "    dataframe=train_df,\n",
    "    directory=None,\n",
    "    x_col=\"image\",\n",
    "    y_col=\"species\",\n",
    "    class_mode=\"categorical\",\n",
    "    target_size=(224, 224),\n",
    "    save_to_dir=train_path,\n",
    "    batch_size=32,\n",
    "    seed=42\n",
    ")\n",
    "\n",
    "# Create test data generator\n",
    "test_datagen = tf.keras.preprocessing.image.ImageDataGenerator(rescale=1./255)\n",
    "test_generator = test_datagen.flow_from_dataframe(\n",
    "    dataframe=test_df,\n",
    "    directory=None,\n",
    "    x_col=\"image\",\n",
    "    y_col=\"species\",\n",
    "    class_mode=None,\n",
    "    target_size=(224, 224),\n",
    "    save_to_dir=test_path,\n",
    "    batch_size=32,\n",
    "    seed = 42\n",
    ")\n"
   ]
  },
  {
   "cell_type": "code",
   "execution_count": 50,
   "metadata": {},
   "outputs": [
    {
     "data": {
      "text/plain": [
       "{'Falciparum': 0, 'Malariae': 1, 'Ovale': 2, 'Vivax': 3}"
      ]
     },
     "execution_count": 50,
     "metadata": {},
     "output_type": "execute_result"
    }
   ],
   "source": [
    "train_generator.class_indices"
   ]
  },
  {
   "cell_type": "code",
   "execution_count": null,
   "metadata": {},
   "outputs": [],
   "source": []
  }
 ],
 "metadata": {
  "kernelspec": {
   "display_name": ".venv",
   "language": "python",
   "name": "python3"
  },
  "language_info": {
   "codemirror_mode": {
    "name": "ipython",
    "version": 3
   },
   "file_extension": ".py",
   "mimetype": "text/x-python",
   "name": "python",
   "nbconvert_exporter": "python",
   "pygments_lexer": "ipython3",
   "version": "3.10.12"
  }
 },
 "nbformat": 4,
 "nbformat_minor": 2
}
