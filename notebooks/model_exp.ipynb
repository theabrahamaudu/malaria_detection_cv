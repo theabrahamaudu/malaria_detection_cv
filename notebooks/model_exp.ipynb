{
 "cells": [
  {
   "cell_type": "code",
   "execution_count": 1,
   "metadata": {},
   "outputs": [
    {
     "data": {
      "text/plain": [
       "'/home/abraham-pc/Documents/paid_gigs/malaria_prediction_cv'"
      ]
     },
     "execution_count": 1,
     "metadata": {},
     "output_type": "execute_result"
    }
   ],
   "source": [
    "import os\n",
    "os.chdir('..')\n",
    "os.getcwd()"
   ]
  },
  {
   "cell_type": "code",
   "execution_count": 2,
   "metadata": {},
   "outputs": [],
   "source": [
    "from sklearn.metrics import accuracy_score, classification_report, f1_score, precision_score, recall_score, confusion_matrix\n",
    "from sklearn.model_selection import StratifiedKFold"
   ]
  },
  {
   "cell_type": "code",
   "execution_count": 3,
   "metadata": {},
   "outputs": [
    {
     "name": "stderr",
     "output_type": "stream",
     "text": [
      "2024-01-18 11:41:50.640606: I tensorflow/core/util/port.cc:113] oneDNN custom operations are on. You may see slightly different numerical results due to floating-point round-off errors from different computation orders. To turn them off, set the environment variable `TF_ENABLE_ONEDNN_OPTS=0`.\n",
      "2024-01-18 11:41:50.666220: E external/local_xla/xla/stream_executor/cuda/cuda_dnn.cc:9261] Unable to register cuDNN factory: Attempting to register factory for plugin cuDNN when one has already been registered\n",
      "2024-01-18 11:41:50.666248: E external/local_xla/xla/stream_executor/cuda/cuda_fft.cc:607] Unable to register cuFFT factory: Attempting to register factory for plugin cuFFT when one has already been registered\n",
      "2024-01-18 11:41:50.666977: E external/local_xla/xla/stream_executor/cuda/cuda_blas.cc:1515] Unable to register cuBLAS factory: Attempting to register factory for plugin cuBLAS when one has already been registered\n",
      "2024-01-18 11:41:50.671384: I tensorflow/core/platform/cpu_feature_guard.cc:182] This TensorFlow binary is optimized to use available CPU instructions in performance-critical operations.\n",
      "To enable the following instructions: AVX2 AVX_VNNI FMA, in other operations, rebuild TensorFlow with the appropriate compiler flags.\n",
      "2024-01-18 11:41:51.151720: W tensorflow/compiler/tf2tensorrt/utils/py_utils.cc:38] TF-TRT Warning: Could not find TensorRT\n",
      "/home/abraham-pc/Documents/paid_gigs/malaria_prediction_cv/.venv/lib/python3.10/site-packages/tensorflow_addons/utils/tfa_eol_msg.py:23: UserWarning: \n",
      "\n",
      "TensorFlow Addons (TFA) has ended development and introduction of new features.\n",
      "TFA has entered a minimal maintenance and release mode until a planned end of life in May 2024.\n",
      "Please modify downstream libraries to take dependencies from other repositories in our TensorFlow community (e.g. Keras, Keras-CV, and Keras-NLP). \n",
      "\n",
      "For more information see: https://github.com/tensorflow/addons/issues/2807 \n",
      "\n",
      "  warnings.warn(\n"
     ]
    }
   ],
   "source": [
    "import numpy as np\n",
    "import tensorflow as tf\n",
    "from tensorflow.keras.models import Model\n",
    "from tensorflow.keras.layers import Input, Conv2D, Activation, BatchNormalization, MaxPooling2D, GlobalAveragePooling2D, Dense, Multiply, Reshape, Attention, Flatten, Dropout, Add, Permute\n",
    "from tensorflow.keras.optimizers import Adam\n",
    "from tensorflow.keras import regularizers\n",
    "from tensorflow.keras.applications import VGG16, ResNet50, VGG19, EfficientNetB7\n",
    "import tensorflow_addons as tfa\n",
    "from keras_self_attention import SeqSelfAttention \n",
    "import attention as attn\n",
    "import mlflow\n",
    "import random\n",
    "# Set seeds to make the experiment more reproducible.\n",
    "seed = 42\n",
    "random.seed(seed)\n",
    "np.random.seed(seed)\n",
    "tf.random.set_seed(seed)\n",
    "os.environ['PYTHONHASHSEED'] = str(seed)\n",
    "os.environ['TF_DETERMINISTIC_OPS'] = '1'\n",
    "os.environ['TF_GPU_ALLOCATOR'] = 'cuda_malloc_async'\n"
   ]
  },
  {
   "cell_type": "code",
   "execution_count": 4,
   "metadata": {},
   "outputs": [],
   "source": [
    "from src.features.build_features import X_train, y_train, X_test, y_test, X_val, y_val, transform_data"
   ]
  },
  {
   "cell_type": "code",
   "execution_count": 5,
   "metadata": {},
   "outputs": [
    {
     "name": "stdout",
     "output_type": "stream",
     "text": [
      "Found 1 GPU(s): [PhysicalDevice(name='/physical_device:GPU:0', device_type='GPU')]\n",
      "Memory growth enabled for all Physical GPUs\n"
     ]
    },
    {
     "name": "stderr",
     "output_type": "stream",
     "text": [
      "2024-01-18 11:41:58.368612: I external/local_xla/xla/stream_executor/cuda/cuda_executor.cc:901] successful NUMA node read from SysFS had negative value (-1), but there must be at least one NUMA node, so returning NUMA node zero. See more at https://github.com/torvalds/linux/blob/v6.0/Documentation/ABI/testing/sysfs-bus-pci#L344-L355\n",
      "2024-01-18 11:41:58.391643: I external/local_xla/xla/stream_executor/cuda/cuda_executor.cc:901] successful NUMA node read from SysFS had negative value (-1), but there must be at least one NUMA node, so returning NUMA node zero. See more at https://github.com/torvalds/linux/blob/v6.0/Documentation/ABI/testing/sysfs-bus-pci#L344-L355\n",
      "2024-01-18 11:41:58.391779: I external/local_xla/xla/stream_executor/cuda/cuda_executor.cc:901] successful NUMA node read from SysFS had negative value (-1), but there must be at least one NUMA node, so returning NUMA node zero. See more at https://github.com/torvalds/linux/blob/v6.0/Documentation/ABI/testing/sysfs-bus-pci#L344-L355\n"
     ]
    }
   ],
   "source": [
    "def configure_gpu():\n",
    "\n",
    "    try:\n",
    "        gpus = tf.config.list_physical_devices('GPU')\n",
    "        print(f\"Found {len(gpus)} GPU(s): {gpus}\")\n",
    "    except Exception as e:\n",
    "        print(\"Error configuring GPU: \\n\", e)\n",
    "        print(\"Training will run on CPU\")\n",
    "\n",
    "    if gpus: # type: ignore\n",
    "        try:\n",
    "            for gpu in gpus:\n",
    "                tf.config.experimental.set_memory_growth(gpu, True)\n",
    "            print(\"Memory growth enabled for all Physical GPUs\")\n",
    "        except Exception as e:\n",
    "            print(\"Error configuring memory growth: \\n\", e)\n",
    "\n",
    "configure_gpu()"
   ]
  },
  {
   "cell_type": "code",
   "execution_count": null,
   "metadata": {},
   "outputs": [],
   "source": []
  },
  {
   "cell_type": "code",
   "execution_count": 6,
   "metadata": {},
   "outputs": [],
   "source": [
    "# Define the model\n",
    "def squeeze_excite_block(input_tensor, ratio=8):\n",
    "    # Squeeze operation\n",
    "    squeeze = GlobalAveragePooling2D()(input_tensor)\n",
    "\n",
    "    # Excitation operation\n",
    "    excitation = Dense(input_tensor.shape[-1] // ratio, activation='relu')(squeeze)\n",
    "    excitation = Dense(input_tensor.shape[-1], activation='sigmoid')(excitation)\n",
    "    excitation = Reshape((1, 1, -1))(excitation)\n",
    "\n",
    "    # Scale the input tensor\n",
    "    scaled_input = Multiply()([input_tensor, excitation])\n",
    "\n",
    "    return scaled_input\n",
    "\n",
    "\n",
    "def convolutional_block_attention_module(input_tensor, ratio=8):\n",
    "    # Channel attention\n",
    "    channel_avg = GlobalAveragePooling2D()(input_tensor)\n",
    "    channel_max = GlobalAveragePooling2D()(input_tensor)\n",
    "    channel_shared = Dense(input_tensor.shape[-1] // ratio, activation='relu', kernel_regularizer=regularizers.l2(0.01))(channel_avg) + \\\n",
    "                     Dense(input_tensor.shape[-1] // ratio, activation='relu', kernel_regularizer=regularizers.l2(0.01))(channel_max)\n",
    "    channel_attention = Dense(input_tensor.shape[-1], activation='sigmoid', kernel_regularizer=regularizers.l2(0.01))(channel_shared)\n",
    "    channel_attention = Reshape((1, 1, -1))(channel_attention)\n",
    "\n",
    "    # Spatial attention\n",
    "    spatial_avg = Reshape((1, 1, input_tensor.shape[-1]))(GlobalAveragePooling2D()(input_tensor))\n",
    "    spatial_max = Reshape((1, 1, input_tensor.shape[-1]))(GlobalAveragePooling2D()(input_tensor))\n",
    "    spatial_shared = Add()([Dense(1, activation='relu', kernel_regularizer=regularizers.l2(0.01))(spatial_avg),\n",
    "                           Dense(1, activation='relu', kernel_regularizer=regularizers.l2(0.01))(spatial_max)])\n",
    "    spatial_attention = Activation('sigmoid')(spatial_shared)\n",
    "\n",
    "    # Combine channel and spatial attention\n",
    "    attention = Multiply()([input_tensor, channel_attention, spatial_attention])\n",
    "\n",
    "    return attention\n",
    "\n",
    "\n",
    "def build_dilated_cnn_with_attention(input_shape, num_classes, dilation_rate, attention_units, ratio):\n",
    "    # Load pre-trained VGG16 model without top (fully connected) layers\n",
    "    base_model = VGG16(weights='imagenet', include_top=False, input_shape=input_shape)\n",
    "\n",
    "    # Freeze pre-trained layers\n",
    "    for layer in base_model.layers:\n",
    "        layer.trainable = False\n",
    "\n",
    "    # Get output tensor of the last VGG16 layer\n",
    "    x = base_model.output\n",
    "\n",
    "    conv1 = Conv2D(filters = 64, dilation_rate = dilation_rate, kernel_size = (3, 3), activation = 'relu', padding='same')(x)\n",
    "    maxpool1 = MaxPooling2D(pool_size = (2, 2), strides=(2, 2))(conv1)\n",
    "\n",
    "    # attn1 = Attention(maxpool1, ))\n",
    "\n",
    "    conv2 = Conv2D(filters = 128, kernel_size = (3, 3), activation = 'relu', padding='same')(maxpool1)\n",
    "    maxpool2 = MaxPooling2D(pool_size = (2, 2), strides=(2, 2))(conv2)\n",
    "\n",
    "    conv3 = Conv2D(filters = 256, kernel_size = (3, 3), activation = 'relu', padding='same')(maxpool2)\n",
    "    maxpool3 = MaxPooling2D(pool_size = (1, 1), strides=(2, 2))(conv3)\n",
    "\n",
    "    # attn = Attention(attention_units)([maxpool3, maxpool3])\n",
    "    attn = convolutional_block_attention_module(input_tensor=maxpool3, ratio=ratio)\n",
    "\n",
    "    flattened = Flatten()(attn)\n",
    "\n",
    "    fc1 = Dense(units = 512, activation = 'relu')(flattened)\n",
    "    drop1 = Dropout(rate = 0.5)(fc1)\n",
    "\n",
    "    final = Dense(units = num_classes,activation='sigmoid')(drop1)\n",
    "\n",
    "    model = Model(inputs=base_model.input, outputs=final)\n",
    "\n",
    "    return model"
   ]
  },
  {
   "cell_type": "code",
   "execution_count": 7,
   "metadata": {},
   "outputs": [],
   "source": [
    "mechs = {\n",
    "    'SA': 0,\n",
    "    'SE': 1,\n",
    "    'CBAM': 2\n",
    "}\n",
    "\n",
    "# Parameters\n",
    "input_shape = (224, 224, 3)\n",
    "input_transform = 0\n",
    "num_classes = 4\n",
    "num_epochs = 100\n",
    "lr = 0.001\n",
    "batch_size = 16\n",
    "patience = 20\n",
    "val_split = 0.2\n",
    "dil = 5\n",
    "dilation_rate = (dil, dil)\n",
    "ratio = 16\n",
    "attention_mechanism = mechs['CBAM']\n",
    "attention_units = 0"
   ]
  },
  {
   "cell_type": "code",
   "execution_count": 8,
   "metadata": {},
   "outputs": [],
   "source": [
    "if input_transform == 1:\n",
    "    X_train = transform_data(X_train, modify=True)\n",
    "    X_val = transform_data(X_val)\n",
    "    X_test = transform_data(X_test)\n",
    "else:\n",
    "    X_train = transform_data(X_train)\n",
    "    X_val = transform_data(X_val)\n",
    "    X_test = transform_data(X_test)"
   ]
  },
  {
   "cell_type": "code",
   "execution_count": 9,
   "metadata": {},
   "outputs": [
    {
     "name": "stderr",
     "output_type": "stream",
     "text": [
      "2024-01-18 11:41:58.573049: I external/local_xla/xla/stream_executor/cuda/cuda_executor.cc:901] successful NUMA node read from SysFS had negative value (-1), but there must be at least one NUMA node, so returning NUMA node zero. See more at https://github.com/torvalds/linux/blob/v6.0/Documentation/ABI/testing/sysfs-bus-pci#L344-L355\n",
      "2024-01-18 11:41:58.573230: I external/local_xla/xla/stream_executor/cuda/cuda_executor.cc:901] successful NUMA node read from SysFS had negative value (-1), but there must be at least one NUMA node, so returning NUMA node zero. See more at https://github.com/torvalds/linux/blob/v6.0/Documentation/ABI/testing/sysfs-bus-pci#L344-L355\n",
      "2024-01-18 11:41:58.573304: I external/local_xla/xla/stream_executor/cuda/cuda_executor.cc:901] successful NUMA node read from SysFS had negative value (-1), but there must be at least one NUMA node, so returning NUMA node zero. See more at https://github.com/torvalds/linux/blob/v6.0/Documentation/ABI/testing/sysfs-bus-pci#L344-L355\n",
      "2024-01-18 11:41:58.621082: I external/local_xla/xla/stream_executor/cuda/cuda_executor.cc:901] successful NUMA node read from SysFS had negative value (-1), but there must be at least one NUMA node, so returning NUMA node zero. See more at https://github.com/torvalds/linux/blob/v6.0/Documentation/ABI/testing/sysfs-bus-pci#L344-L355\n",
      "2024-01-18 11:41:58.621212: I external/local_xla/xla/stream_executor/cuda/cuda_executor.cc:901] successful NUMA node read from SysFS had negative value (-1), but there must be at least one NUMA node, so returning NUMA node zero. See more at https://github.com/torvalds/linux/blob/v6.0/Documentation/ABI/testing/sysfs-bus-pci#L344-L355\n",
      "2024-01-18 11:41:58.621266: I tensorflow/core/common_runtime/gpu/gpu_process_state.cc:236] Using CUDA malloc Async allocator for GPU: 0\n",
      "2024-01-18 11:41:58.621330: I external/local_xla/xla/stream_executor/cuda/cuda_executor.cc:901] successful NUMA node read from SysFS had negative value (-1), but there must be at least one NUMA node, so returning NUMA node zero. See more at https://github.com/torvalds/linux/blob/v6.0/Documentation/ABI/testing/sysfs-bus-pci#L344-L355\n",
      "2024-01-18 11:41:58.621389: I tensorflow/core/common_runtime/gpu/gpu_device.cc:1929] Created device /job:localhost/replica:0/task:0/device:GPU:0 with 4232 MB memory:  -> device: 0, name: NVIDIA GeForce RTX 3060 Laptop GPU, pci bus id: 0000:01:00.0, compute capability: 8.6\n"
     ]
    },
    {
     "name": "stdout",
     "output_type": "stream",
     "text": [
      "Model: \"model\"\n",
      "__________________________________________________________________________________________________\n",
      " Layer (type)                Output Shape                 Param #   Connected to                  \n",
      "==================================================================================================\n",
      " input_1 (InputLayer)        [(None, 224, 224, 3)]        0         []                            \n",
      "                                                                                                  \n",
      " block1_conv1 (Conv2D)       (None, 224, 224, 64)         1792      ['input_1[0][0]']             \n",
      "                                                                                                  \n",
      " block1_conv2 (Conv2D)       (None, 224, 224, 64)         36928     ['block1_conv1[0][0]']        \n",
      "                                                                                                  \n",
      " block1_pool (MaxPooling2D)  (None, 112, 112, 64)         0         ['block1_conv2[0][0]']        \n",
      "                                                                                                  \n",
      " block2_conv1 (Conv2D)       (None, 112, 112, 128)        73856     ['block1_pool[0][0]']         \n",
      "                                                                                                  \n",
      " block2_conv2 (Conv2D)       (None, 112, 112, 128)        147584    ['block2_conv1[0][0]']        \n",
      "                                                                                                  \n",
      " block2_pool (MaxPooling2D)  (None, 56, 56, 128)          0         ['block2_conv2[0][0]']        \n",
      "                                                                                                  \n",
      " block3_conv1 (Conv2D)       (None, 56, 56, 256)          295168    ['block2_pool[0][0]']         \n",
      "                                                                                                  \n",
      " block3_conv2 (Conv2D)       (None, 56, 56, 256)          590080    ['block3_conv1[0][0]']        \n",
      "                                                                                                  \n",
      " block3_conv3 (Conv2D)       (None, 56, 56, 256)          590080    ['block3_conv2[0][0]']        \n",
      "                                                                                                  \n",
      " block3_pool (MaxPooling2D)  (None, 28, 28, 256)          0         ['block3_conv3[0][0]']        \n",
      "                                                                                                  \n",
      " block4_conv1 (Conv2D)       (None, 28, 28, 512)          1180160   ['block3_pool[0][0]']         \n",
      "                                                                                                  \n",
      " block4_conv2 (Conv2D)       (None, 28, 28, 512)          2359808   ['block4_conv1[0][0]']        \n",
      "                                                                                                  \n",
      " block4_conv3 (Conv2D)       (None, 28, 28, 512)          2359808   ['block4_conv2[0][0]']        \n",
      "                                                                                                  \n",
      " block4_pool (MaxPooling2D)  (None, 14, 14, 512)          0         ['block4_conv3[0][0]']        \n",
      "                                                                                                  \n",
      " block5_conv1 (Conv2D)       (None, 14, 14, 512)          2359808   ['block4_pool[0][0]']         \n",
      "                                                                                                  \n",
      " block5_conv2 (Conv2D)       (None, 14, 14, 512)          2359808   ['block5_conv1[0][0]']        \n",
      "                                                                                                  \n",
      " block5_conv3 (Conv2D)       (None, 14, 14, 512)          2359808   ['block5_conv2[0][0]']        \n",
      "                                                                                                  \n",
      " block5_pool (MaxPooling2D)  (None, 7, 7, 512)            0         ['block5_conv3[0][0]']        \n",
      "                                                                                                  \n",
      " conv2d (Conv2D)             (None, 7, 7, 64)             294976    ['block5_pool[0][0]']         \n",
      "                                                                                                  \n",
      " max_pooling2d (MaxPooling2  (None, 3, 3, 64)             0         ['conv2d[0][0]']              \n",
      " D)                                                                                               \n",
      "                                                                                                  \n",
      " conv2d_1 (Conv2D)           (None, 3, 3, 128)            73856     ['max_pooling2d[0][0]']       \n",
      "                                                                                                  \n",
      " max_pooling2d_1 (MaxPoolin  (None, 1, 1, 128)            0         ['conv2d_1[0][0]']            \n",
      " g2D)                                                                                             \n",
      "                                                                                                  \n",
      " conv2d_2 (Conv2D)           (None, 1, 1, 256)            295168    ['max_pooling2d_1[0][0]']     \n",
      "                                                                                                  \n",
      " max_pooling2d_2 (MaxPoolin  (None, 1, 1, 256)            0         ['conv2d_2[0][0]']            \n",
      " g2D)                                                                                             \n",
      "                                                                                                  \n",
      " global_average_pooling2d (  (None, 256)                  0         ['max_pooling2d_2[0][0]']     \n",
      " GlobalAveragePooling2D)                                                                          \n",
      "                                                                                                  \n",
      " global_average_pooling2d_1  (None, 256)                  0         ['max_pooling2d_2[0][0]']     \n",
      "  (GlobalAveragePooling2D)                                                                        \n",
      "                                                                                                  \n",
      " global_average_pooling2d_2  (None, 256)                  0         ['max_pooling2d_2[0][0]']     \n",
      "  (GlobalAveragePooling2D)                                                                        \n",
      "                                                                                                  \n",
      " global_average_pooling2d_3  (None, 256)                  0         ['max_pooling2d_2[0][0]']     \n",
      "  (GlobalAveragePooling2D)                                                                        \n",
      "                                                                                                  \n",
      " dense (Dense)               (None, 16)                   4112      ['global_average_pooling2d[0][\n",
      "                                                                    0]']                          \n",
      "                                                                                                  \n",
      " dense_1 (Dense)             (None, 16)                   4112      ['global_average_pooling2d_1[0\n",
      "                                                                    ][0]']                        \n",
      "                                                                                                  \n",
      " reshape_1 (Reshape)         (None, 1, 1, 256)            0         ['global_average_pooling2d_2[0\n",
      "                                                                    ][0]']                        \n",
      "                                                                                                  \n",
      " reshape_2 (Reshape)         (None, 1, 1, 256)            0         ['global_average_pooling2d_3[0\n",
      "                                                                    ][0]']                        \n",
      "                                                                                                  \n",
      " tf.__operators__.add (TFOp  (None, 16)                   0         ['dense[0][0]',               \n",
      " Lambda)                                                             'dense_1[0][0]']             \n",
      "                                                                                                  \n",
      " dense_3 (Dense)             (None, 1, 1, 1)              257       ['reshape_1[0][0]']           \n",
      "                                                                                                  \n",
      " dense_4 (Dense)             (None, 1, 1, 1)              257       ['reshape_2[0][0]']           \n",
      "                                                                                                  \n",
      " dense_2 (Dense)             (None, 256)                  4352      ['tf.__operators__.add[0][0]']\n",
      "                                                                                                  \n",
      " add (Add)                   (None, 1, 1, 1)              0         ['dense_3[0][0]',             \n",
      "                                                                     'dense_4[0][0]']             \n",
      "                                                                                                  \n",
      " reshape (Reshape)           (None, 1, 1, 256)            0         ['dense_2[0][0]']             \n",
      "                                                                                                  \n",
      " activation (Activation)     (None, 1, 1, 1)              0         ['add[0][0]']                 \n",
      "                                                                                                  \n",
      " multiply (Multiply)         (None, 1, 1, 256)            0         ['max_pooling2d_2[0][0]',     \n",
      "                                                                     'reshape[0][0]',             \n",
      "                                                                     'activation[0][0]']          \n",
      "                                                                                                  \n",
      " flatten (Flatten)           (None, 256)                  0         ['multiply[0][0]']            \n",
      "                                                                                                  \n",
      " dense_5 (Dense)             (None, 512)                  131584    ['flatten[0][0]']             \n",
      "                                                                                                  \n",
      " dropout (Dropout)           (None, 512)                  0         ['dense_5[0][0]']             \n",
      "                                                                                                  \n",
      " dense_6 (Dense)             (None, 4)                    2052      ['dropout[0][0]']             \n",
      "                                                                                                  \n",
      "==================================================================================================\n",
      "Total params: 15525414 (59.22 MB)\n",
      "Trainable params: 810726 (3.09 MB)\n",
      "Non-trainable params: 14714688 (56.13 MB)\n",
      "__________________________________________________________________________________________________\n"
     ]
    }
   ],
   "source": [
    "# Build the model\n",
    "model = build_dilated_cnn_with_attention(input_shape, num_classes, dilation_rate, attention_units, ratio)\n",
    "\n",
    "\n",
    "# Compile the model and print a summary\n",
    "model.compile(optimizer=Adam(lr), loss='categorical_crossentropy', metrics=['accuracy',\n",
    "                                                                            tfa.metrics.F1Score(average='macro', num_classes=4),\n",
    "                                                                            tf.keras.metrics.Precision(),\n",
    "                                                                            tf.keras.metrics.Recall()])\n",
    "model.summary()"
   ]
  },
  {
   "cell_type": "code",
   "execution_count": 10,
   "metadata": {},
   "outputs": [],
   "source": [
    "def testdata_evaluation(model, X_test, y_test):\n",
    "    actual = np.argmax(y_test, axis=1)\n",
    "    predictions = model.predict(X_test)\n",
    "    predictions = np.argmax(predictions, axis=1)\n",
    "    accuracy = accuracy_score(actual, predictions)\n",
    "    f1_weighted = f1_score(actual, predictions, average='weighted')\n",
    "    return float(accuracy), float(f1_weighted)\n",
    "\n",
    "# def testdata_evaluation(model, test_generator, y_test):\n",
    "#     actual = np.argmax(y_test, axis=1)\n",
    "#     preds = model.predict(test_generator)\n",
    "#     predictions = np.argmax(preds, axis=1)\n",
    "#     accuracy = accuracy_score(actual, predictions)\n",
    "#     f1_weighted = f1_score(actual, predictions, average='weighted')\n",
    "#     return float(accuracy), float(f1_weighted)\n",
    "\n",
    "def k_fold_evaluation(model, X_test, y_test, folds=5):\n",
    "    kf = StratifiedKFold(n_splits=folds)\n",
    "\n",
    "    f1_scores = []\n",
    "    accuracy_scores = []\n",
    "    precision_scores = []\n",
    "    recall_scores = []\n",
    "    y_test = np.argmax(y_test, axis=1)\n",
    "\n",
    "    for _, test_index in kf.split(X_test, y_test):\n",
    "        features = X_test[test_index]\n",
    "        actual = y_test[test_index]\n",
    "        predictions = model.predict(features, verbose=0)\n",
    "        predictions = np.argmax(predictions, axis=1)\n",
    "        f1_scores.append(f1_score(actual, predictions, average='weighted', zero_division=0))\n",
    "        accuracy_scores.append(accuracy_score(actual, predictions))\n",
    "        precision_scores.append(precision_score(actual, predictions, average='weighted', zero_division=0))\n",
    "        recall_scores.append(recall_score(actual, predictions, average='weighted', zero_division=0))\n",
    "\n",
    "    f1_weighted = float(np.mean(f1_scores))\n",
    "    accuracy = float(np.mean(accuracy_scores))\n",
    "    precision = float(np.mean(precision_scores))\n",
    "    recall = float(np.mean(recall_scores))\n",
    "\n",
    "    return f1_weighted, accuracy, precision, recall\n",
    "    "
   ]
  },
  {
   "cell_type": "code",
   "execution_count": null,
   "metadata": {},
   "outputs": [],
   "source": []
  },
  {
   "cell_type": "code",
   "execution_count": 11,
   "metadata": {},
   "outputs": [
    {
     "name": "stderr",
     "output_type": "stream",
     "text": [
      "2024/01/18 11:41:59 INFO mlflow.tracking.fluent: Experiment with name 'exp36_5_CBAM_16' does not exist. Creating a new experiment.\n"
     ]
    },
    {
     "name": "stdout",
     "output_type": "stream",
     "text": [
      "Epoch 1/100\n"
     ]
    },
    {
     "name": "stderr",
     "output_type": "stream",
     "text": [
      "2024-01-18 11:41:59.328515: I external/local_tsl/tsl/platform/default/subprocess.cc:304] Start cannot spawn child process: No such file or directory\n",
      "2024-01-18 11:42:00.478126: I external/local_xla/xla/stream_executor/cuda/cuda_dnn.cc:454] Loaded cuDNN version 8904\n",
      "2024-01-18 11:42:00.537163: I external/local_tsl/tsl/platform/default/subprocess.cc:304] Start cannot spawn child process: No such file or directory\n",
      "2024-01-18 11:42:01.204739: I external/local_xla/xla/service/service.cc:168] XLA service 0x7fe2850fa5a0 initialized for platform CUDA (this does not guarantee that XLA will be used). Devices:\n",
      "2024-01-18 11:42:01.204760: I external/local_xla/xla/service/service.cc:176]   StreamExecutor device (0): NVIDIA GeForce RTX 3060 Laptop GPU, Compute Capability 8.6\n",
      "2024-01-18 11:42:01.207976: I tensorflow/compiler/mlir/tensorflow/utils/dump_mlir_util.cc:269] disabling MLIR crash reproducer, set env var `MLIR_CRASH_REPRODUCER_DIRECTORY` to enable.\n",
      "WARNING: All log messages before absl::InitializeLog() is called are written to STDERR\n",
      "I0000 00:00:1705574521.266996   63231 device_compiler.h:186] Compiled cluster using XLA!  This line is logged at most once for the lifetime of the process.\n"
     ]
    },
    {
     "name": "stdout",
     "output_type": "stream",
     "text": [
      "6/9 [===================>..........] - ETA: 0s - loss: 2.2739 - accuracy: 0.2708 - f1_score: 0.1314 - precision: 0.2773 - recall: 0.6354WARNING:tensorflow:Callback method `on_train_batch_end` is slow compared to the batch time (batch time: 0.0048s vs `on_train_batch_end` time: 0.0511s). Check your callbacks.\n",
      "9/9 [==============================] - ETA: 0s - loss: 2.2283 - accuracy: 0.2917 - f1_score: 0.1782 - precision: 0.2971 - recall: 0.7014INFO:tensorflow:Assets written to: ./models/checkpoints/exp36_5_CBAM_16/assets\n"
     ]
    },
    {
     "name": "stderr",
     "output_type": "stream",
     "text": [
      "INFO:tensorflow:Assets written to: ./models/checkpoints/exp36_5_CBAM_16/assets\n"
     ]
    },
    {
     "name": "stdout",
     "output_type": "stream",
     "text": [
      "9/9 [==============================] - 5s 314ms/step - loss: 2.2283 - accuracy: 0.2917 - f1_score: 0.1782 - precision: 0.2971 - recall: 0.7014 - val_loss: 2.0808 - val_accuracy: 0.3333 - val_f1_score: 0.1250 - val_precision: 0.3750 - val_recall: 0.8333\n",
      "Epoch 2/100\n",
      "9/9 [==============================] - ETA: 0s - loss: 1.9174 - accuracy: 0.4375 - f1_score: 0.2896 - precision: 0.3448 - recall: 0.8333INFO:tensorflow:Assets written to: ./models/checkpoints/exp36_5_CBAM_16/assets\n"
     ]
    },
    {
     "name": "stderr",
     "output_type": "stream",
     "text": [
      "INFO:tensorflow:Assets written to: ./models/checkpoints/exp36_5_CBAM_16/assets\n"
     ]
    },
    {
     "name": "stdout",
     "output_type": "stream",
     "text": [
      "9/9 [==============================] - 2s 257ms/step - loss: 1.9174 - accuracy: 0.4375 - f1_score: 0.2896 - precision: 0.3448 - recall: 0.8333 - val_loss: 1.7386 - val_accuracy: 0.5000 - val_f1_score: 0.3429 - val_precision: 0.3750 - val_recall: 0.8333\n",
      "Epoch 3/100\n",
      "9/9 [==============================] - ETA: 0s - loss: 1.5007 - accuracy: 0.6319 - f1_score: 0.5169 - precision: 0.3922 - recall: 0.9097INFO:tensorflow:Assets written to: ./models/checkpoints/exp36_5_CBAM_16/assets\n"
     ]
    },
    {
     "name": "stderr",
     "output_type": "stream",
     "text": [
      "INFO:tensorflow:Assets written to: ./models/checkpoints/exp36_5_CBAM_16/assets\n"
     ]
    },
    {
     "name": "stdout",
     "output_type": "stream",
     "text": [
      "9/9 [==============================] - 2s 260ms/step - loss: 1.5007 - accuracy: 0.6319 - f1_score: 0.5169 - precision: 0.3922 - recall: 0.9097 - val_loss: 1.2745 - val_accuracy: 0.7222 - val_f1_score: 0.5969 - val_precision: 0.3953 - val_recall: 0.9444\n",
      "Epoch 4/100\n",
      "9/9 [==============================] - ETA: 0s - loss: 1.1475 - accuracy: 0.6875 - f1_score: 0.6072 - precision: 0.3978 - recall: 0.9861INFO:tensorflow:Assets written to: ./models/checkpoints/exp36_5_CBAM_16/assets\n"
     ]
    },
    {
     "name": "stderr",
     "output_type": "stream",
     "text": [
      "INFO:tensorflow:Assets written to: ./models/checkpoints/exp36_5_CBAM_16/assets\n"
     ]
    },
    {
     "name": "stdout",
     "output_type": "stream",
     "text": [
      "9/9 [==============================] - 2s 245ms/step - loss: 1.1475 - accuracy: 0.6875 - f1_score: 0.6072 - precision: 0.3978 - recall: 0.9861 - val_loss: 1.1745 - val_accuracy: 0.8056 - val_f1_score: 0.8177 - val_precision: 0.3431 - val_recall: 0.9722\n",
      "Epoch 5/100\n",
      "9/9 [==============================] - ETA: 0s - loss: 0.9232 - accuracy: 0.7917 - f1_score: 0.7963 - precision: 0.4040 - recall: 0.9931INFO:tensorflow:Assets written to: ./models/checkpoints/exp36_5_CBAM_16/assets\n"
     ]
    },
    {
     "name": "stderr",
     "output_type": "stream",
     "text": [
      "INFO:tensorflow:Assets written to: ./models/checkpoints/exp36_5_CBAM_16/assets\n"
     ]
    },
    {
     "name": "stdout",
     "output_type": "stream",
     "text": [
      "9/9 [==============================] - 2s 264ms/step - loss: 0.9232 - accuracy: 0.7917 - f1_score: 0.7963 - precision: 0.4040 - recall: 0.9931 - val_loss: 1.0961 - val_accuracy: 0.8333 - val_f1_score: 0.8450 - val_precision: 0.4250 - val_recall: 0.9444\n",
      "Epoch 6/100\n",
      "9/9 [==============================] - 1s 88ms/step - loss: 0.6457 - accuracy: 0.8889 - f1_score: 0.8943 - precision: 0.4324 - recall: 1.0000 - val_loss: 1.0420 - val_accuracy: 0.8333 - val_f1_score: 0.8353 - val_precision: 0.4146 - val_recall: 0.9444\n",
      "Epoch 7/100\n",
      "9/9 [==============================] - ETA: 0s - loss: 0.5217 - accuracy: 0.9167 - f1_score: 0.9232 - precision: 0.4364 - recall: 1.0000INFO:tensorflow:Assets written to: ./models/checkpoints/exp36_5_CBAM_16/assets\n"
     ]
    },
    {
     "name": "stderr",
     "output_type": "stream",
     "text": [
      "INFO:tensorflow:Assets written to: ./models/checkpoints/exp36_5_CBAM_16/assets\n"
     ]
    },
    {
     "name": "stdout",
     "output_type": "stream",
     "text": [
      "9/9 [==============================] - 2s 259ms/step - loss: 0.5217 - accuracy: 0.9167 - f1_score: 0.9232 - precision: 0.4364 - recall: 1.0000 - val_loss: 1.0931 - val_accuracy: 0.8333 - val_f1_score: 0.8498 - val_precision: 0.4595 - val_recall: 0.9444\n",
      "Epoch 8/100\n",
      "9/9 [==============================] - ETA: 0s - loss: 0.3509 - accuracy: 0.9514 - f1_score: 0.9591 - precision: 0.4800 - recall: 1.0000INFO:tensorflow:Assets written to: ./models/checkpoints/exp36_5_CBAM_16/assets\n"
     ]
    },
    {
     "name": "stderr",
     "output_type": "stream",
     "text": [
      "INFO:tensorflow:Assets written to: ./models/checkpoints/exp36_5_CBAM_16/assets\n"
     ]
    },
    {
     "name": "stdout",
     "output_type": "stream",
     "text": [
      "9/9 [==============================] - 2s 238ms/step - loss: 0.3509 - accuracy: 0.9514 - f1_score: 0.9591 - precision: 0.4800 - recall: 1.0000 - val_loss: 0.9154 - val_accuracy: 0.8889 - val_f1_score: 0.8797 - val_precision: 0.4474 - val_recall: 0.9444\n",
      "Epoch 9/100\n",
      "9/9 [==============================] - 1s 88ms/step - loss: 0.2761 - accuracy: 0.9583 - f1_score: 0.9643 - precision: 0.5180 - recall: 1.0000 - val_loss: 0.9620 - val_accuracy: 0.8333 - val_f1_score: 0.8353 - val_precision: 0.4789 - val_recall: 0.9444\n",
      "Epoch 10/100\n",
      "9/9 [==============================] - 1s 88ms/step - loss: 0.1746 - accuracy: 1.0000 - f1_score: 1.0000 - precision: 0.5294 - recall: 1.0000 - val_loss: 1.0622 - val_accuracy: 0.7778 - val_f1_score: 0.7910 - val_precision: 0.4789 - val_recall: 0.9444\n",
      "Epoch 11/100\n",
      "9/9 [==============================] - 1s 87ms/step - loss: 0.1549 - accuracy: 0.9931 - f1_score: 0.9943 - precision: 0.5373 - recall: 1.0000 - val_loss: 1.2401 - val_accuracy: 0.8889 - val_f1_score: 0.8797 - val_precision: 0.5079 - val_recall: 0.8889\n",
      "Epoch 12/100\n",
      "9/9 [==============================] - 1s 87ms/step - loss: 0.1240 - accuracy: 0.9931 - f1_score: 0.9942 - precision: 0.5806 - recall: 1.0000 - val_loss: 1.2608 - val_accuracy: 0.7500 - val_f1_score: 0.7683 - val_precision: 0.5000 - val_recall: 0.9444\n",
      "Epoch 13/100\n",
      "9/9 [==============================] - 1s 87ms/step - loss: 0.1013 - accuracy: 0.9931 - f1_score: 0.9933 - precision: 0.6050 - recall: 1.0000 - val_loss: 1.2243 - val_accuracy: 0.8889 - val_f1_score: 0.8797 - val_precision: 0.4923 - val_recall: 0.8889\n",
      "Epoch 14/100\n",
      "9/9 [==============================] - 1s 87ms/step - loss: 0.0815 - accuracy: 0.9931 - f1_score: 0.9943 - precision: 0.5783 - recall: 1.0000 - val_loss: 1.2326 - val_accuracy: 0.8333 - val_f1_score: 0.8353 - val_precision: 0.4776 - val_recall: 0.8889\n",
      "Epoch 15/100\n",
      "9/9 [==============================] - 1s 88ms/step - loss: 0.0813 - accuracy: 0.9861 - f1_score: 0.9875 - precision: 0.5854 - recall: 1.0000 - val_loss: 1.1284 - val_accuracy: 0.8889 - val_f1_score: 0.8797 - val_precision: 0.4848 - val_recall: 0.8889\n",
      "Epoch 16/100\n",
      "9/9 [==============================] - 1s 87ms/step - loss: 0.0523 - accuracy: 1.0000 - f1_score: 1.0000 - precision: 0.6429 - recall: 1.0000 - val_loss: 1.0541 - val_accuracy: 0.8056 - val_f1_score: 0.8133 - val_precision: 0.5231 - val_recall: 0.9444\n",
      "Epoch 17/100\n",
      "9/9 [==============================] - 1s 87ms/step - loss: 0.0410 - accuracy: 1.0000 - f1_score: 1.0000 - precision: 0.6180 - recall: 1.0000 - val_loss: 1.1183 - val_accuracy: 0.7778 - val_f1_score: 0.8060 - val_precision: 0.5312 - val_recall: 0.9444\n",
      "Epoch 18/100\n",
      "9/9 [==============================] - 1s 88ms/step - loss: 0.0319 - accuracy: 1.0000 - f1_score: 1.0000 - precision: 0.6825 - recall: 1.0000 - val_loss: 1.0638 - val_accuracy: 0.8611 - val_f1_score: 0.8574 - val_precision: 0.5484 - val_recall: 0.9444\n",
      "Epoch 19/100\n",
      "9/9 [==============================] - 1s 87ms/step - loss: 0.0254 - accuracy: 1.0000 - f1_score: 1.0000 - precision: 0.6890 - recall: 1.0000 - val_loss: 1.0998 - val_accuracy: 0.8889 - val_f1_score: 0.8797 - val_precision: 0.5667 - val_recall: 0.9444\n",
      "Epoch 20/100\n",
      "9/9 [==============================] - 1s 87ms/step - loss: 0.0210 - accuracy: 1.0000 - f1_score: 1.0000 - precision: 0.7273 - recall: 1.0000 - val_loss: 1.1135 - val_accuracy: 0.8889 - val_f1_score: 0.8797 - val_precision: 0.5763 - val_recall: 0.9444\n",
      "Epoch 21/100\n",
      "9/9 [==============================] - 1s 93ms/step - loss: 0.0174 - accuracy: 1.0000 - f1_score: 1.0000 - precision: 0.7024 - recall: 1.0000 - val_loss: 1.1183 - val_accuracy: 0.8889 - val_f1_score: 0.8797 - val_precision: 0.5763 - val_recall: 0.9444\n",
      "Epoch 22/100\n",
      "9/9 [==============================] - 1s 88ms/step - loss: 0.0145 - accuracy: 1.0000 - f1_score: 1.0000 - precision: 0.7461 - recall: 1.0000 - val_loss: 1.1159 - val_accuracy: 0.8889 - val_f1_score: 0.8797 - val_precision: 0.5862 - val_recall: 0.9444\n",
      "Epoch 23/100\n",
      "9/9 [==============================] - 1s 89ms/step - loss: 0.0123 - accuracy: 1.0000 - f1_score: 1.0000 - precision: 0.7500 - recall: 1.0000 - val_loss: 1.1350 - val_accuracy: 0.8889 - val_f1_score: 0.8797 - val_precision: 0.5667 - val_recall: 0.9444\n",
      "Epoch 24/100\n",
      "9/9 [==============================] - 1s 88ms/step - loss: 0.0103 - accuracy: 1.0000 - f1_score: 1.0000 - precision: 0.7200 - recall: 1.0000 - val_loss: 1.1503 - val_accuracy: 0.8889 - val_f1_score: 0.8797 - val_precision: 0.5690 - val_recall: 0.9167\n",
      "Epoch 25/100\n",
      "9/9 [==============================] - 1s 86ms/step - loss: 0.0088 - accuracy: 1.0000 - f1_score: 1.0000 - precision: 0.7539 - recall: 1.0000 - val_loss: 1.1574 - val_accuracy: 0.8889 - val_f1_score: 0.8797 - val_precision: 0.5789 - val_recall: 0.9167\n",
      "Epoch 26/100\n",
      "9/9 [==============================] - 1s 88ms/step - loss: 0.0077 - accuracy: 1.0000 - f1_score: 1.0000 - precision: 0.7236 - recall: 1.0000 - val_loss: 1.1557 - val_accuracy: 0.8889 - val_f1_score: 0.8797 - val_precision: 0.5763 - val_recall: 0.9444\n",
      "Epoch 27/100\n",
      "9/9 [==============================] - 1s 86ms/step - loss: 0.0066 - accuracy: 1.0000 - f1_score: 1.0000 - precision: 0.7461 - recall: 1.0000 - val_loss: 1.1541 - val_accuracy: 0.8889 - val_f1_score: 0.8797 - val_precision: 0.5862 - val_recall: 0.9444\n",
      "Epoch 28/100\n",
      "9/9 [==============================] - 1s 91ms/step - loss: 0.0059 - accuracy: 1.0000 - f1_score: 1.0000 - precision: 0.7129 - recall: 1.0000 - val_loss: 1.1654 - val_accuracy: 0.8889 - val_f1_score: 0.8797 - val_precision: 0.5862 - val_recall: 0.9444\n",
      "1/1 [==============================] - 0s 195ms/step\n",
      "INFO:tensorflow:Assets written to: /tmp/tmpxzyverk8/model/data/model/assets\n"
     ]
    },
    {
     "name": "stderr",
     "output_type": "stream",
     "text": [
      "INFO:tensorflow:Assets written to: /tmp/tmpxzyverk8/model/data/model/assets\n"
     ]
    }
   ],
   "source": [
    "# Define the MLflow experiment\n",
    "experiment_name = \"exp36_5_CBAM_16\"\n",
    "experiment = mlflow.set_experiment(experiment_name)\n",
    "\n",
    "# Define paths\n",
    "checkpoint_dir = './models/checkpoints/'\n",
    "model_file = f'./models/model_{experiment_name+experiment.experiment_id}.keras'\n",
    "os.makedirs( checkpoint_dir + experiment_name, exist_ok=True)\n",
    "checkpoint_file = checkpoint_dir + experiment_name\n",
    "\n",
    "# define callbacks\n",
    "early_stopping = tf.keras.callbacks.EarlyStopping(\n",
    "    monitor='val_f1_score', \n",
    "    patience=patience, \n",
    "    mode='max',\n",
    "    restore_best_weights=True\n",
    ")\n",
    "\n",
    "checkpoint = tf.keras.callbacks.ModelCheckpoint(\n",
    "    checkpoint_file, \n",
    "    monitor=\"val_f1_score\",\n",
    "    mode=\"max\", \n",
    "    save_best_only=True,\n",
    "    verbose=0\n",
    ")\n",
    "\n",
    "# Train the model\n",
    "mlflow.tensorflow.autolog()\n",
    "with mlflow.start_run(experiment_id=experiment.experiment_id) as run:\n",
    "    mlflow.log_params({\n",
    "        \"learning_rate\": lr,\n",
    "        \"dilation_rate\": dilation_rate,\n",
    "        \"attention_units\": attention_units,\n",
    "        \"ratio\": ratio,\n",
    "        \"attention_mechanism\": attention_mechanism,\n",
    "        \"num_classes\": num_classes,\n",
    "        \"input_shape\": input_shape,\n",
    "        \"input_transform\": input_transform,\n",
    "        \"batch_size\": batch_size,\n",
    "        \"patience\": patience,\n",
    "        \"num_epochs\": num_epochs,\n",
    "        \"val_split\": val_split\n",
    "    })\n",
    "\n",
    "    model.fit(\n",
    "        X_train,\n",
    "        y_train,\n",
    "        validation_data=(X_val, y_val),\n",
    "        batch_size=batch_size,\n",
    "        epochs=num_epochs,\n",
    "        callbacks=[\n",
    "            early_stopping,\n",
    "            checkpoint\n",
    "        ]\n",
    "    )\n",
    "    model.save(model_file)\n",
    "    \n",
    "    test_model = tf.keras.models.load_model(checkpoint_file)\n",
    "    f1_weighted, accuracy, precision, recall = k_fold_evaluation(test_model, X_test, y_test, folds=5)\n",
    "\n",
    "    mlflow.log_metrics({\n",
    "        \"test accuracy\": accuracy,\n",
    "        \"test f1_weighted\": f1_weighted,\n",
    "        \"test precision\": precision,\n",
    "        \"test recall\": recall\n",
    "    })\n",
    "    mlflow.log_artifact(model_file)\n"
   ]
  },
  {
   "cell_type": "code",
   "execution_count": null,
   "metadata": {},
   "outputs": [],
   "source": []
  },
  {
   "cell_type": "code",
   "execution_count": 12,
   "metadata": {},
   "outputs": [],
   "source": [
    "# test_model_file = f'./models/model_DCA_first_try453954341690039783.keras'\n",
    "test_model_file = f'./models/checkpoints/DCA_first_try'\n",
    "\n",
    "test_model = tf.keras.models.load_model(checkpoint_file)\n",
    "# test_model = tf.keras.models.load_model(test_model_file)"
   ]
  },
  {
   "cell_type": "code",
   "execution_count": 13,
   "metadata": {},
   "outputs": [],
   "source": [
    "# Classification Report for each type of attack\n",
    "def print_f1_scores(y_true, y_pred):\n",
    "    report = classification_report(y_true, y_pred, output_dict=True)\n",
    "\n",
    "    for class_label, metric in report.items():\n",
    "        try:\n",
    "            f1_score_float = metric['f1-score']\n",
    "            print(f\"Class {class_label}: F1-score = {round(f1_score_float, 3)}\")\n",
    "        except:\n",
    "            pass"
   ]
  },
  {
   "cell_type": "code",
   "execution_count": 14,
   "metadata": {},
   "outputs": [],
   "source": [
    "# def print_testdata_evaluation(model, train_generator, test_generator, test_df):\n",
    "#     mapping = train_generator.class_indices\n",
    "#     actual = test_df['species'].map(mapping)\n",
    "#     preds = model.predict(test_generator)\n",
    "#     predictions = np.argmax(preds, axis=1)\n",
    "#     accuracy = accuracy_score(actual, predictions)\n",
    "#     # f1_weighted = f1_score(actual, predictions, average='weighted')\n",
    "#     print_f1_scores(actual, predictions)\n",
    "#     print(f\"Test accuracy = {accuracy}\")\n",
    "\n",
    "def print_newdata_evaluation(model, X_test, y_test):\n",
    "    actual = np.argmax(y_test, axis=1)\n",
    "    predictions = model.predict(X_test)\n",
    "    predictions = np.argmax(predictions, axis=1)\n",
    "    accuracy = accuracy_score(actual, predictions)\n",
    "    f1_weighted = f1_score(actual, predictions, average='weighted')\n",
    "    print_f1_scores(actual, predictions)\n",
    "    print(f\"Test accuracy = {accuracy}\")"
   ]
  },
  {
   "cell_type": "markdown",
   "metadata": {},
   "source": []
  },
  {
   "cell_type": "code",
   "execution_count": 15,
   "metadata": {},
   "outputs": [
    {
     "name": "stdout",
     "output_type": "stream",
     "text": [
      "2/2 [==============================] - 0s 113ms/step\n",
      "Class 0: F1-score = 0.889\n",
      "Class 1: F1-score = 0.833\n",
      "Class 2: F1-score = 0.727\n",
      "Class 3: F1-score = 0.8\n",
      "Class macro avg: F1-score = 0.812\n",
      "Class weighted avg: F1-score = 0.823\n",
      "Test accuracy = 0.8260869565217391\n"
     ]
    }
   ],
   "source": [
    "print_newdata_evaluation(test_model, X_test, y_test)"
   ]
  },
  {
   "cell_type": "code",
   "execution_count": 16,
   "metadata": {},
   "outputs": [],
   "source": [
    "def k_fold_evaluation(model, X_test, y_test, folds=5):\n",
    "    kf = StratifiedKFold(n_splits=folds)\n",
    "\n",
    "    f1_scores = []\n",
    "    accuracy_scores = []\n",
    "    precision_scores = []\n",
    "    recall_scores = []\n",
    "    y_test = np.argmax(y_test, axis=1)\n",
    "\n",
    "    for _, test_index in kf.split(X_test, y_test):\n",
    "        features = X_test[test_index]\n",
    "        actual = y_test[test_index]\n",
    "        predictions = model.predict(features, verbose=0)\n",
    "        predictions = np.argmax(predictions, axis=1)\n",
    "        f1_scores.append(f1_score(actual, predictions, average='weighted', zero_division=0))\n",
    "        accuracy_scores.append(accuracy_score(actual, predictions))\n",
    "        precision_scores.append(precision_score(actual, predictions, average='weighted', zero_division=0))\n",
    "        recall_scores.append(recall_score(actual, predictions, average='weighted', zero_division=0))\n",
    "\n",
    "    f1_weighted = np.mean(f1_scores)\n",
    "    accuracy = np.mean(accuracy_scores)\n",
    "    precision = np.mean(precision_scores)\n",
    "    recall = np.mean(recall_scores)\n",
    "\n",
    "    return f1_weighted, accuracy, precision, recall"
   ]
  },
  {
   "cell_type": "code",
   "execution_count": 17,
   "metadata": {},
   "outputs": [
    {
     "data": {
      "text/plain": [
       "(0.8065714285714286, 0.8244444444444443, 0.826851851851852, 0.8244444444444443)"
      ]
     },
     "execution_count": 17,
     "metadata": {},
     "output_type": "execute_result"
    }
   ],
   "source": [
    "k_fold_evaluation(test_model, X_test, y_test)"
   ]
  },
  {
   "cell_type": "code",
   "execution_count": null,
   "metadata": {},
   "outputs": [],
   "source": []
  }
 ],
 "metadata": {
  "kernelspec": {
   "display_name": ".venv",
   "language": "python",
   "name": "python3"
  },
  "language_info": {
   "codemirror_mode": {
    "name": "ipython",
    "version": 3
   },
   "file_extension": ".py",
   "mimetype": "text/x-python",
   "name": "python",
   "nbconvert_exporter": "python",
   "pygments_lexer": "ipython3",
   "version": "3.10.12"
  }
 },
 "nbformat": 4,
 "nbformat_minor": 2
}
