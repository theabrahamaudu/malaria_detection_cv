{
 "cells": [
  {
   "cell_type": "code",
   "execution_count": 1,
   "metadata": {},
   "outputs": [
    {
     "data": {
      "text/plain": [
       "'/home/abraham-pc/Documents/paid_gigs/malaria_prediction_cv'"
      ]
     },
     "execution_count": 1,
     "metadata": {},
     "output_type": "execute_result"
    }
   ],
   "source": [
    "import os\n",
    "os.chdir('..')\n",
    "os.getcwd()"
   ]
  },
  {
   "cell_type": "code",
   "execution_count": 2,
   "metadata": {},
   "outputs": [],
   "source": [
    "from sklearn.metrics import accuracy_score, classification_report, f1_score, precision_score, recall_score, confusion_matrix\n",
    "from sklearn.model_selection import StratifiedKFold"
   ]
  },
  {
   "cell_type": "code",
   "execution_count": 3,
   "metadata": {},
   "outputs": [
    {
     "name": "stderr",
     "output_type": "stream",
     "text": [
      "2024-01-17 14:05:32.248058: I tensorflow/core/util/port.cc:113] oneDNN custom operations are on. You may see slightly different numerical results due to floating-point round-off errors from different computation orders. To turn them off, set the environment variable `TF_ENABLE_ONEDNN_OPTS=0`.\n",
      "2024-01-17 14:05:32.272143: E external/local_xla/xla/stream_executor/cuda/cuda_dnn.cc:9261] Unable to register cuDNN factory: Attempting to register factory for plugin cuDNN when one has already been registered\n",
      "2024-01-17 14:05:32.272171: E external/local_xla/xla/stream_executor/cuda/cuda_fft.cc:607] Unable to register cuFFT factory: Attempting to register factory for plugin cuFFT when one has already been registered\n",
      "2024-01-17 14:05:32.272768: E external/local_xla/xla/stream_executor/cuda/cuda_blas.cc:1515] Unable to register cuBLAS factory: Attempting to register factory for plugin cuBLAS when one has already been registered\n",
      "2024-01-17 14:05:32.277048: I tensorflow/core/platform/cpu_feature_guard.cc:182] This TensorFlow binary is optimized to use available CPU instructions in performance-critical operations.\n",
      "To enable the following instructions: AVX2 AVX_VNNI FMA, in other operations, rebuild TensorFlow with the appropriate compiler flags.\n",
      "2024-01-17 14:05:32.736947: W tensorflow/compiler/tf2tensorrt/utils/py_utils.cc:38] TF-TRT Warning: Could not find TensorRT\n",
      "/home/abraham-pc/Documents/paid_gigs/malaria_prediction_cv/.venv/lib/python3.10/site-packages/tensorflow_addons/utils/tfa_eol_msg.py:23: UserWarning: \n",
      "\n",
      "TensorFlow Addons (TFA) has ended development and introduction of new features.\n",
      "TFA has entered a minimal maintenance and release mode until a planned end of life in May 2024.\n",
      "Please modify downstream libraries to take dependencies from other repositories in our TensorFlow community (e.g. Keras, Keras-CV, and Keras-NLP). \n",
      "\n",
      "For more information see: https://github.com/tensorflow/addons/issues/2807 \n",
      "\n",
      "  warnings.warn(\n"
     ]
    }
   ],
   "source": [
    "import numpy as np\n",
    "import tensorflow as tf\n",
    "from tensorflow.keras.models import Model\n",
    "from tensorflow.keras.layers import Input, Conv2D, Activation, BatchNormalization, MaxPooling2D, GlobalAveragePooling2D, Dense, Multiply, Reshape, Attention, Flatten, Dropout, Add, Permute\n",
    "from tensorflow.keras.optimizers import Adam\n",
    "from tensorflow.keras import regularizers\n",
    "from tensorflow.keras.applications import VGG16, ResNet50, VGG19, EfficientNetB7\n",
    "import tensorflow_addons as tfa\n",
    "from keras_self_attention import SeqSelfAttention \n",
    "import attention as attn\n",
    "import mlflow\n",
    "import random\n",
    "# Set seeds to make the experiment more reproducible.\n",
    "seed = 42\n",
    "random.seed(seed)\n",
    "np.random.seed(seed)\n",
    "tf.random.set_seed(seed)\n",
    "os.environ['PYTHONHASHSEED'] = str(seed)\n",
    "os.environ['TF_DETERMINISTIC_OPS'] = '1'\n",
    "os.environ['TF_GPU_ALLOCATOR'] = 'cuda_malloc_async'\n"
   ]
  },
  {
   "cell_type": "code",
   "execution_count": 4,
   "metadata": {},
   "outputs": [],
   "source": [
    "from src.features.build_features import X_train, y_train, X_test, y_test, X_val, y_val, transform_data"
   ]
  },
  {
   "cell_type": "code",
   "execution_count": 5,
   "metadata": {},
   "outputs": [
    {
     "name": "stdout",
     "output_type": "stream",
     "text": [
      "Found 1 GPU(s): [PhysicalDevice(name='/physical_device:GPU:0', device_type='GPU')]\n",
      "Memory growth enabled for all Physical GPUs\n"
     ]
    },
    {
     "name": "stderr",
     "output_type": "stream",
     "text": [
      "2024-01-17 14:05:40.152480: I external/local_xla/xla/stream_executor/cuda/cuda_executor.cc:901] successful NUMA node read from SysFS had negative value (-1), but there must be at least one NUMA node, so returning NUMA node zero. See more at https://github.com/torvalds/linux/blob/v6.0/Documentation/ABI/testing/sysfs-bus-pci#L344-L355\n",
      "2024-01-17 14:05:40.175984: I external/local_xla/xla/stream_executor/cuda/cuda_executor.cc:901] successful NUMA node read from SysFS had negative value (-1), but there must be at least one NUMA node, so returning NUMA node zero. See more at https://github.com/torvalds/linux/blob/v6.0/Documentation/ABI/testing/sysfs-bus-pci#L344-L355\n",
      "2024-01-17 14:05:40.176253: I external/local_xla/xla/stream_executor/cuda/cuda_executor.cc:901] successful NUMA node read from SysFS had negative value (-1), but there must be at least one NUMA node, so returning NUMA node zero. See more at https://github.com/torvalds/linux/blob/v6.0/Documentation/ABI/testing/sysfs-bus-pci#L344-L355\n"
     ]
    }
   ],
   "source": [
    "def configure_gpu():\n",
    "\n",
    "    try:\n",
    "        gpus = tf.config.list_physical_devices('GPU')\n",
    "        print(f\"Found {len(gpus)} GPU(s): {gpus}\")\n",
    "    except Exception as e:\n",
    "        print(\"Error configuring GPU: \\n\", e)\n",
    "        print(\"Training will run on CPU\")\n",
    "\n",
    "    if gpus: # type: ignore\n",
    "        try:\n",
    "            for gpu in gpus:\n",
    "                tf.config.experimental.set_memory_growth(gpu, True)\n",
    "            print(\"Memory growth enabled for all Physical GPUs\")\n",
    "        except Exception as e:\n",
    "            print(\"Error configuring memory growth: \\n\", e)\n",
    "\n",
    "configure_gpu()"
   ]
  },
  {
   "cell_type": "code",
   "execution_count": null,
   "metadata": {},
   "outputs": [],
   "source": []
  },
  {
   "cell_type": "code",
   "execution_count": 6,
   "metadata": {},
   "outputs": [],
   "source": [
    "# Define the model\n",
    "def build_dilated_cnn_with_attention(input_shape, num_classes, dilation_rate, attention_units):\n",
    "    # Load pre-trained VGG16 model without top (fully connected) layers\n",
    "    base_model = VGG16(weights='imagenet', include_top=False, input_shape=input_shape)\n",
    "\n",
    "    # Freeze pre-trained layers\n",
    "    for layer in base_model.layers:\n",
    "        layer.trainable = False\n",
    "\n",
    "    # Get output tensor of the last VGG16 layer\n",
    "    x = base_model.output\n",
    "\n",
    "    conv1 = Conv2D(filters = 64, dilation_rate = dilation_rate, kernel_size = (3, 3), activation = 'relu', padding='same')(x)\n",
    "    maxpool1 = MaxPooling2D(pool_size = (2, 2), strides=(2, 2))(conv1)\n",
    "\n",
    "    # attn1 = Attention(maxpool1, ))\n",
    "\n",
    "    conv2 = Conv2D(filters = 128, kernel_size = (3, 3), activation = 'relu', padding='same')(maxpool1)\n",
    "    maxpool2 = MaxPooling2D(pool_size = (2, 2), strides=(2, 2))(conv2)\n",
    "\n",
    "    conv3 = Conv2D(filters = 256, kernel_size = (3, 3), activation = 'relu', padding='same')(maxpool2)\n",
    "    maxpool3 = MaxPooling2D(pool_size = (1, 1), strides=(2, 2))(conv3)\n",
    "\n",
    "    attn = Attention(attention_units)([maxpool3, maxpool3])\n",
    "\n",
    "    flattened = Flatten()(attn)\n",
    "\n",
    "    fc1 = Dense(units = 512, activation = 'relu')(flattened)\n",
    "    drop1 = Dropout(rate = 0.5)(fc1)\n",
    "\n",
    "    final = Dense(units = num_classes,activation='sigmoid')(drop1)\n",
    "\n",
    "    model = Model(inputs=base_model.input, outputs=final)\n",
    "\n",
    "    return model"
   ]
  },
  {
   "cell_type": "code",
   "execution_count": 7,
   "metadata": {},
   "outputs": [],
   "source": [
    "mechs = {\n",
    "    'SA': 0,\n",
    "    'SE': 1,\n",
    "    'CBAM': 2\n",
    "}\n",
    "# Parameters\n",
    "input_shape = (224, 224, 3)\n",
    "input_transform = 0\n",
    "num_classes = 4\n",
    "num_epochs = 100\n",
    "lr = 0.001\n",
    "batch_size = 16\n",
    "# patience = int(np.sqrt(num_epochs))\n",
    "patience = 20\n",
    "val_split = 0.2\n",
    "dilation_rate = (4, 4)\n",
    "attention_mechanism = mechs['SA']\n",
    "attention_units = 512"
   ]
  },
  {
   "cell_type": "code",
   "execution_count": 8,
   "metadata": {},
   "outputs": [],
   "source": [
    "if input_transform == 1:\n",
    "    X_train = transform_data(X_train, modify=True)\n",
    "    X_val = transform_data(X_val)\n",
    "    X_test = transform_data(X_test)\n",
    "else:\n",
    "    X_train = transform_data(X_train)\n",
    "    X_val = transform_data(X_val)\n",
    "    X_test = transform_data(X_test)"
   ]
  },
  {
   "cell_type": "code",
   "execution_count": 9,
   "metadata": {},
   "outputs": [
    {
     "name": "stderr",
     "output_type": "stream",
     "text": [
      "2024-01-17 14:05:40.366286: I external/local_xla/xla/stream_executor/cuda/cuda_executor.cc:901] successful NUMA node read from SysFS had negative value (-1), but there must be at least one NUMA node, so returning NUMA node zero. See more at https://github.com/torvalds/linux/blob/v6.0/Documentation/ABI/testing/sysfs-bus-pci#L344-L355\n",
      "2024-01-17 14:05:40.366472: I external/local_xla/xla/stream_executor/cuda/cuda_executor.cc:901] successful NUMA node read from SysFS had negative value (-1), but there must be at least one NUMA node, so returning NUMA node zero. See more at https://github.com/torvalds/linux/blob/v6.0/Documentation/ABI/testing/sysfs-bus-pci#L344-L355\n",
      "2024-01-17 14:05:40.366548: I external/local_xla/xla/stream_executor/cuda/cuda_executor.cc:901] successful NUMA node read from SysFS had negative value (-1), but there must be at least one NUMA node, so returning NUMA node zero. See more at https://github.com/torvalds/linux/blob/v6.0/Documentation/ABI/testing/sysfs-bus-pci#L344-L355\n",
      "2024-01-17 14:05:40.420207: I external/local_xla/xla/stream_executor/cuda/cuda_executor.cc:901] successful NUMA node read from SysFS had negative value (-1), but there must be at least one NUMA node, so returning NUMA node zero. See more at https://github.com/torvalds/linux/blob/v6.0/Documentation/ABI/testing/sysfs-bus-pci#L344-L355\n",
      "2024-01-17 14:05:40.420344: I external/local_xla/xla/stream_executor/cuda/cuda_executor.cc:901] successful NUMA node read from SysFS had negative value (-1), but there must be at least one NUMA node, so returning NUMA node zero. See more at https://github.com/torvalds/linux/blob/v6.0/Documentation/ABI/testing/sysfs-bus-pci#L344-L355\n",
      "2024-01-17 14:05:40.420397: I tensorflow/core/common_runtime/gpu/gpu_process_state.cc:236] Using CUDA malloc Async allocator for GPU: 0\n",
      "2024-01-17 14:05:40.420461: I external/local_xla/xla/stream_executor/cuda/cuda_executor.cc:901] successful NUMA node read from SysFS had negative value (-1), but there must be at least one NUMA node, so returning NUMA node zero. See more at https://github.com/torvalds/linux/blob/v6.0/Documentation/ABI/testing/sysfs-bus-pci#L344-L355\n",
      "2024-01-17 14:05:40.420520: I tensorflow/core/common_runtime/gpu/gpu_device.cc:1929] Created device /job:localhost/replica:0/task:0/device:GPU:0 with 4232 MB memory:  -> device: 0, name: NVIDIA GeForce RTX 3060 Laptop GPU, pci bus id: 0000:01:00.0, compute capability: 8.6\n"
     ]
    },
    {
     "name": "stdout",
     "output_type": "stream",
     "text": [
      "Model: \"model\"\n",
      "__________________________________________________________________________________________________\n",
      " Layer (type)                Output Shape                 Param #   Connected to                  \n",
      "==================================================================================================\n",
      " input_1 (InputLayer)        [(None, 224, 224, 3)]        0         []                            \n",
      "                                                                                                  \n",
      " block1_conv1 (Conv2D)       (None, 224, 224, 64)         1792      ['input_1[0][0]']             \n",
      "                                                                                                  \n",
      " block1_conv2 (Conv2D)       (None, 224, 224, 64)         36928     ['block1_conv1[0][0]']        \n",
      "                                                                                                  \n",
      " block1_pool (MaxPooling2D)  (None, 112, 112, 64)         0         ['block1_conv2[0][0]']        \n",
      "                                                                                                  \n",
      " block2_conv1 (Conv2D)       (None, 112, 112, 128)        73856     ['block1_pool[0][0]']         \n",
      "                                                                                                  \n",
      " block2_conv2 (Conv2D)       (None, 112, 112, 128)        147584    ['block2_conv1[0][0]']        \n",
      "                                                                                                  \n",
      " block2_pool (MaxPooling2D)  (None, 56, 56, 128)          0         ['block2_conv2[0][0]']        \n",
      "                                                                                                  \n",
      " block3_conv1 (Conv2D)       (None, 56, 56, 256)          295168    ['block2_pool[0][0]']         \n",
      "                                                                                                  \n",
      " block3_conv2 (Conv2D)       (None, 56, 56, 256)          590080    ['block3_conv1[0][0]']        \n",
      "                                                                                                  \n",
      " block3_conv3 (Conv2D)       (None, 56, 56, 256)          590080    ['block3_conv2[0][0]']        \n",
      "                                                                                                  \n",
      " block3_pool (MaxPooling2D)  (None, 28, 28, 256)          0         ['block3_conv3[0][0]']        \n",
      "                                                                                                  \n",
      " block4_conv1 (Conv2D)       (None, 28, 28, 512)          1180160   ['block3_pool[0][0]']         \n",
      "                                                                                                  \n",
      " block4_conv2 (Conv2D)       (None, 28, 28, 512)          2359808   ['block4_conv1[0][0]']        \n",
      "                                                                                                  \n",
      " block4_conv3 (Conv2D)       (None, 28, 28, 512)          2359808   ['block4_conv2[0][0]']        \n",
      "                                                                                                  \n",
      " block4_pool (MaxPooling2D)  (None, 14, 14, 512)          0         ['block4_conv3[0][0]']        \n",
      "                                                                                                  \n",
      " block5_conv1 (Conv2D)       (None, 14, 14, 512)          2359808   ['block4_pool[0][0]']         \n",
      "                                                                                                  \n",
      " block5_conv2 (Conv2D)       (None, 14, 14, 512)          2359808   ['block5_conv1[0][0]']        \n",
      "                                                                                                  \n",
      " block5_conv3 (Conv2D)       (None, 14, 14, 512)          2359808   ['block5_conv2[0][0]']        \n",
      "                                                                                                  \n",
      " block5_pool (MaxPooling2D)  (None, 7, 7, 512)            0         ['block5_conv3[0][0]']        \n",
      "                                                                                                  \n",
      " conv2d (Conv2D)             (None, 7, 7, 64)             294976    ['block5_pool[0][0]']         \n",
      "                                                                                                  \n",
      " max_pooling2d (MaxPooling2  (None, 3, 3, 64)             0         ['conv2d[0][0]']              \n",
      " D)                                                                                               \n",
      "                                                                                                  \n",
      " conv2d_1 (Conv2D)           (None, 3, 3, 128)            73856     ['max_pooling2d[0][0]']       \n",
      "                                                                                                  \n",
      " max_pooling2d_1 (MaxPoolin  (None, 1, 1, 128)            0         ['conv2d_1[0][0]']            \n",
      " g2D)                                                                                             \n",
      "                                                                                                  \n",
      " conv2d_2 (Conv2D)           (None, 1, 1, 256)            295168    ['max_pooling2d_1[0][0]']     \n",
      "                                                                                                  \n",
      " max_pooling2d_2 (MaxPoolin  (None, 1, 1, 256)            0         ['conv2d_2[0][0]']            \n",
      " g2D)                                                                                             \n",
      "                                                                                                  \n",
      " attention (Attention)       (None, 1, 1, 256)            1         ['max_pooling2d_2[0][0]',     \n",
      "                                                                     'max_pooling2d_2[0][0]']     \n",
      "                                                                                                  \n",
      " flatten (Flatten)           (None, 256)                  0         ['attention[0][0]']           \n",
      "                                                                                                  \n",
      " dense (Dense)               (None, 512)                  131584    ['flatten[0][0]']             \n",
      "                                                                                                  \n",
      " dropout (Dropout)           (None, 512)                  0         ['dense[0][0]']               \n",
      "                                                                                                  \n",
      " dense_1 (Dense)             (None, 4)                    2052      ['dropout[0][0]']             \n",
      "                                                                                                  \n",
      "==================================================================================================\n",
      "Total params: 15512325 (59.17 MB)\n",
      "Trainable params: 797637 (3.04 MB)\n",
      "Non-trainable params: 14714688 (56.13 MB)\n",
      "__________________________________________________________________________________________________\n"
     ]
    }
   ],
   "source": [
    "# Build the model\n",
    "model = build_dilated_cnn_with_attention(input_shape, num_classes, dilation_rate, attention_units)\n",
    "\n",
    "\n",
    "# Compile the model and print a summary\n",
    "model.compile(optimizer=Adam(lr), loss='categorical_crossentropy', metrics=['accuracy',\n",
    "                                                                            tfa.metrics.F1Score(average='macro', num_classes=4),\n",
    "                                                                            tf.keras.metrics.Precision(),\n",
    "                                                                            tf.keras.metrics.Recall()])\n",
    "model.summary()"
   ]
  },
  {
   "cell_type": "code",
   "execution_count": 10,
   "metadata": {},
   "outputs": [],
   "source": [
    "def testdata_evaluation(model, X_test, y_test):\n",
    "    actual = np.argmax(y_test, axis=1)\n",
    "    predictions = model.predict(X_test)\n",
    "    predictions = np.argmax(predictions, axis=1)\n",
    "    accuracy = accuracy_score(actual, predictions)\n",
    "    f1_weighted = f1_score(actual, predictions, average='weighted')\n",
    "    return float(accuracy), float(f1_weighted)\n",
    "\n",
    "# def testdata_evaluation(model, test_generator, y_test):\n",
    "#     actual = np.argmax(y_test, axis=1)\n",
    "#     preds = model.predict(test_generator)\n",
    "#     predictions = np.argmax(preds, axis=1)\n",
    "#     accuracy = accuracy_score(actual, predictions)\n",
    "#     f1_weighted = f1_score(actual, predictions, average='weighted')\n",
    "#     return float(accuracy), float(f1_weighted)\n",
    "\n",
    "def k_fold_evaluation(model, X_test, y_test, folds=5):\n",
    "    kf = StratifiedKFold(n_splits=folds)\n",
    "\n",
    "    f1_scores = []\n",
    "    accuracy_scores = []\n",
    "    precision_scores = []\n",
    "    recall_scores = []\n",
    "    y_test = np.argmax(y_test, axis=1)\n",
    "\n",
    "    for _, test_index in kf.split(X_test, y_test):\n",
    "        features = X_test[test_index]\n",
    "        actual = y_test[test_index]\n",
    "        predictions = model.predict(features, verbose=0)\n",
    "        predictions = np.argmax(predictions, axis=1)\n",
    "        f1_scores.append(f1_score(actual, predictions, average='weighted', zero_division=0))\n",
    "        accuracy_scores.append(accuracy_score(actual, predictions))\n",
    "        precision_scores.append(precision_score(actual, predictions, average='weighted', zero_division=0))\n",
    "        recall_scores.append(recall_score(actual, predictions, average='weighted', zero_division=0))\n",
    "\n",
    "    f1_weighted = float(np.mean(f1_scores))\n",
    "    accuracy = float(np.mean(accuracy_scores))\n",
    "    precision = float(np.mean(precision_scores))\n",
    "    recall = float(np.mean(recall_scores))\n",
    "\n",
    "    return f1_weighted, accuracy, precision, recall\n",
    "    "
   ]
  },
  {
   "cell_type": "code",
   "execution_count": null,
   "metadata": {},
   "outputs": [],
   "source": []
  },
  {
   "cell_type": "code",
   "execution_count": 11,
   "metadata": {},
   "outputs": [
    {
     "name": "stderr",
     "output_type": "stream",
     "text": [
      "2024-01-17 14:05:41.072731: I external/local_tsl/tsl/platform/default/subprocess.cc:304] Start cannot spawn child process: No such file or directory\n"
     ]
    },
    {
     "name": "stdout",
     "output_type": "stream",
     "text": [
      "Epoch 1/100\n"
     ]
    },
    {
     "name": "stderr",
     "output_type": "stream",
     "text": [
      "2024-01-17 14:05:42.074035: I external/local_xla/xla/stream_executor/cuda/cuda_dnn.cc:454] Loaded cuDNN version 8904\n",
      "2024-01-17 14:05:42.139133: I external/local_tsl/tsl/platform/default/subprocess.cc:304] Start cannot spawn child process: No such file or directory\n",
      "2024-01-17 14:05:42.856325: I external/local_xla/xla/service/service.cc:168] XLA service 0x7f491db66c90 initialized for platform CUDA (this does not guarantee that XLA will be used). Devices:\n",
      "2024-01-17 14:05:42.856347: I external/local_xla/xla/service/service.cc:176]   StreamExecutor device (0): NVIDIA GeForce RTX 3060 Laptop GPU, Compute Capability 8.6\n",
      "2024-01-17 14:05:42.859652: I tensorflow/compiler/mlir/tensorflow/utils/dump_mlir_util.cc:269] disabling MLIR crash reproducer, set env var `MLIR_CRASH_REPRODUCER_DIRECTORY` to enable.\n",
      "WARNING: All log messages before absl::InitializeLog() is called are written to STDERR\n",
      "I0000 00:00:1705496742.924215   30929 device_compiler.h:186] Compiled cluster using XLA!  This line is logged at most once for the lifetime of the process.\n"
     ]
    },
    {
     "name": "stdout",
     "output_type": "stream",
     "text": [
      "6/9 [===================>..........] - ETA: 0s - loss: 1.3602 - accuracy: 0.3333 - f1_score: 0.2242 - precision: 0.3161 - recall: 0.5104WARNING:tensorflow:Callback method `on_train_batch_end` is slow compared to the batch time (batch time: 0.0046s vs `on_train_batch_end` time: 0.0481s). Check your callbacks.\n",
      "9/9 [==============================] - ETA: 0s - loss: 1.3034 - accuracy: 0.3681 - f1_score: 0.3009 - precision: 0.3544 - recall: 0.5833INFO:tensorflow:Assets written to: ./models/checkpoints/DCA_SA3CL_onVGG16_V3/assets\n"
     ]
    },
    {
     "name": "stderr",
     "output_type": "stream",
     "text": [
      "INFO:tensorflow:Assets written to: ./models/checkpoints/DCA_SA3CL_onVGG16_V3/assets\n"
     ]
    },
    {
     "name": "stdout",
     "output_type": "stream",
     "text": [
      "9/9 [==============================] - 5s 277ms/step - loss: 1.3034 - accuracy: 0.3681 - f1_score: 0.3009 - precision: 0.3544 - recall: 0.5833 - val_loss: 1.3037 - val_accuracy: 0.3333 - val_f1_score: 0.1250 - val_precision: 0.3684 - val_recall: 0.3889\n",
      "Epoch 2/100\n",
      "9/9 [==============================] - ETA: 0s - loss: 1.0967 - accuracy: 0.4931 - f1_score: 0.3628 - precision: 0.4337 - recall: 0.7500INFO:tensorflow:Assets written to: ./models/checkpoints/DCA_SA3CL_onVGG16_V3/assets\n"
     ]
    },
    {
     "name": "stderr",
     "output_type": "stream",
     "text": [
      "INFO:tensorflow:Assets written to: ./models/checkpoints/DCA_SA3CL_onVGG16_V3/assets\n"
     ]
    },
    {
     "name": "stdout",
     "output_type": "stream",
     "text": [
      "9/9 [==============================] - 2s 203ms/step - loss: 1.0967 - accuracy: 0.4931 - f1_score: 0.3628 - precision: 0.4337 - recall: 0.7500 - val_loss: 0.9056 - val_accuracy: 0.6111 - val_f1_score: 0.4765 - val_precision: 0.4146 - val_recall: 0.9444\n",
      "Epoch 3/100\n",
      "9/9 [==============================] - ETA: 0s - loss: 0.7462 - accuracy: 0.6736 - f1_score: 0.5790 - precision: 0.4228 - recall: 0.9514INFO:tensorflow:Assets written to: ./models/checkpoints/DCA_SA3CL_onVGG16_V3/assets\n"
     ]
    },
    {
     "name": "stderr",
     "output_type": "stream",
     "text": [
      "INFO:tensorflow:Assets written to: ./models/checkpoints/DCA_SA3CL_onVGG16_V3/assets\n"
     ]
    },
    {
     "name": "stdout",
     "output_type": "stream",
     "text": [
      "9/9 [==============================] - 2s 220ms/step - loss: 0.7462 - accuracy: 0.6736 - f1_score: 0.5790 - precision: 0.4228 - recall: 0.9514 - val_loss: 0.6593 - val_accuracy: 0.7500 - val_f1_score: 0.6186 - val_precision: 0.4595 - val_recall: 0.9444\n",
      "Epoch 4/100\n",
      "9/9 [==============================] - ETA: 0s - loss: 0.6017 - accuracy: 0.7431 - f1_score: 0.7524 - precision: 0.4781 - recall: 0.9861INFO:tensorflow:Assets written to: ./models/checkpoints/DCA_SA3CL_onVGG16_V3/assets\n"
     ]
    },
    {
     "name": "stderr",
     "output_type": "stream",
     "text": [
      "INFO:tensorflow:Assets written to: ./models/checkpoints/DCA_SA3CL_onVGG16_V3/assets\n"
     ]
    },
    {
     "name": "stdout",
     "output_type": "stream",
     "text": [
      "9/9 [==============================] - 2s 202ms/step - loss: 0.6017 - accuracy: 0.7431 - f1_score: 0.7524 - precision: 0.4781 - recall: 0.9861 - val_loss: 0.6317 - val_accuracy: 0.8333 - val_f1_score: 0.8334 - val_precision: 0.4658 - val_recall: 0.9444\n",
      "Epoch 5/100\n",
      "9/9 [==============================] - ETA: 0s - loss: 0.2903 - accuracy: 0.9167 - f1_score: 0.9309 - precision: 0.5180 - recall: 1.0000INFO:tensorflow:Assets written to: ./models/checkpoints/DCA_SA3CL_onVGG16_V3/assets\n"
     ]
    },
    {
     "name": "stderr",
     "output_type": "stream",
     "text": [
      "INFO:tensorflow:Assets written to: ./models/checkpoints/DCA_SA3CL_onVGG16_V3/assets\n"
     ]
    },
    {
     "name": "stdout",
     "output_type": "stream",
     "text": [
      "9/9 [==============================] - 2s 213ms/step - loss: 0.2903 - accuracy: 0.9167 - f1_score: 0.9309 - precision: 0.5180 - recall: 1.0000 - val_loss: 0.6614 - val_accuracy: 0.8611 - val_f1_score: 0.8703 - val_precision: 0.5667 - val_recall: 0.9444\n",
      "Epoch 6/100\n",
      "9/9 [==============================] - 1s 86ms/step - loss: 0.1819 - accuracy: 0.9167 - f1_score: 0.9300 - precision: 0.6076 - recall: 1.0000 - val_loss: 0.7958 - val_accuracy: 0.7778 - val_f1_score: 0.7910 - val_precision: 0.5667 - val_recall: 0.9444\n",
      "Epoch 7/100\n",
      "9/9 [==============================] - 1s 87ms/step - loss: 0.1343 - accuracy: 0.9375 - f1_score: 0.9420 - precision: 0.5830 - recall: 1.0000 - val_loss: 0.7465 - val_accuracy: 0.8333 - val_f1_score: 0.8355 - val_precision: 0.5763 - val_recall: 0.9444\n",
      "Epoch 8/100\n",
      "9/9 [==============================] - 1s 87ms/step - loss: 0.1140 - accuracy: 0.9583 - f1_score: 0.9625 - precision: 0.6575 - recall: 1.0000 - val_loss: 0.7582 - val_accuracy: 0.8611 - val_f1_score: 0.8519 - val_precision: 0.5763 - val_recall: 0.9444\n",
      "Epoch 9/100\n",
      "9/9 [==============================] - 1s 86ms/step - loss: 0.1658 - accuracy: 0.9444 - f1_score: 0.9521 - precision: 0.6486 - recall: 1.0000 - val_loss: 0.7052 - val_accuracy: 0.8611 - val_f1_score: 0.8574 - val_precision: 0.6800 - val_recall: 0.9444\n",
      "Epoch 10/100\n",
      "9/9 [==============================] - 1s 85ms/step - loss: 0.1385 - accuracy: 0.9583 - f1_score: 0.9596 - precision: 0.6825 - recall: 1.0000 - val_loss: 0.6665 - val_accuracy: 0.8333 - val_f1_score: 0.8297 - val_precision: 0.5574 - val_recall: 0.9444\n",
      "Epoch 11/100\n",
      "9/9 [==============================] - 1s 87ms/step - loss: 0.0566 - accuracy: 0.9792 - f1_score: 0.9796 - precision: 0.6207 - recall: 1.0000 - val_loss: 0.8235 - val_accuracy: 0.8611 - val_f1_score: 0.8555 - val_precision: 0.6600 - val_recall: 0.9167\n",
      "Epoch 12/100\n",
      "9/9 [==============================] - 1s 88ms/step - loss: 0.0419 - accuracy: 0.9861 - f1_score: 0.9884 - precision: 0.8045 - recall: 1.0000 - val_loss: 0.6182 - val_accuracy: 0.8333 - val_f1_score: 0.8353 - val_precision: 0.7083 - val_recall: 0.9444\n",
      "Epoch 13/100\n",
      "9/9 [==============================] - ETA: 0s - loss: 0.0120 - accuracy: 1.0000 - f1_score: 1.0000 - precision: 0.8421 - recall: 1.0000INFO:tensorflow:Assets written to: ./models/checkpoints/DCA_SA3CL_onVGG16_V3/assets\n"
     ]
    },
    {
     "name": "stderr",
     "output_type": "stream",
     "text": [
      "INFO:tensorflow:Assets written to: ./models/checkpoints/DCA_SA3CL_onVGG16_V3/assets\n"
     ]
    },
    {
     "name": "stdout",
     "output_type": "stream",
     "text": [
      "9/9 [==============================] - 2s 198ms/step - loss: 0.0120 - accuracy: 1.0000 - f1_score: 1.0000 - precision: 0.8421 - recall: 1.0000 - val_loss: 0.7920 - val_accuracy: 0.8889 - val_f1_score: 0.8797 - val_precision: 0.6875 - val_recall: 0.9167\n",
      "Epoch 14/100\n",
      "9/9 [==============================] - 1s 86ms/step - loss: 0.0041 - accuracy: 1.0000 - f1_score: 1.0000 - precision: 0.8571 - recall: 1.0000 - val_loss: 0.8550 - val_accuracy: 0.8889 - val_f1_score: 0.8797 - val_precision: 0.7333 - val_recall: 0.9167\n",
      "Epoch 15/100\n",
      "9/9 [==============================] - 1s 87ms/step - loss: 0.0013 - accuracy: 1.0000 - f1_score: 1.0000 - precision: 0.8623 - recall: 1.0000 - val_loss: 0.8691 - val_accuracy: 0.8889 - val_f1_score: 0.8797 - val_precision: 0.7556 - val_recall: 0.9444\n",
      "Epoch 16/100\n",
      "9/9 [==============================] - 1s 86ms/step - loss: 0.0011 - accuracy: 1.0000 - f1_score: 1.0000 - precision: 0.9000 - recall: 1.0000 - val_loss: 0.9625 - val_accuracy: 0.8889 - val_f1_score: 0.8797 - val_precision: 0.7857 - val_recall: 0.9167\n",
      "Epoch 17/100\n",
      "9/9 [==============================] - 1s 87ms/step - loss: 3.6384e-04 - accuracy: 1.0000 - f1_score: 1.0000 - precision: 0.9351 - recall: 1.0000 - val_loss: 1.0272 - val_accuracy: 0.8889 - val_f1_score: 0.8797 - val_precision: 0.7619 - val_recall: 0.8889\n",
      "Epoch 18/100\n",
      "9/9 [==============================] - 1s 87ms/step - loss: 3.7635e-04 - accuracy: 1.0000 - f1_score: 1.0000 - precision: 0.9172 - recall: 1.0000 - val_loss: 1.0602 - val_accuracy: 0.8889 - val_f1_score: 0.8797 - val_precision: 0.8205 - val_recall: 0.8889\n",
      "Epoch 19/100\n",
      "9/9 [==============================] - 1s 87ms/step - loss: 2.4531e-04 - accuracy: 1.0000 - f1_score: 1.0000 - precision: 0.9351 - recall: 1.0000 - val_loss: 1.0848 - val_accuracy: 0.8889 - val_f1_score: 0.8797 - val_precision: 0.8205 - val_recall: 0.8889\n",
      "Epoch 20/100\n",
      "9/9 [==============================] - 1s 85ms/step - loss: 2.1515e-04 - accuracy: 1.0000 - f1_score: 1.0000 - precision: 0.9412 - recall: 1.0000 - val_loss: 1.0879 - val_accuracy: 0.8889 - val_f1_score: 0.8797 - val_precision: 0.8000 - val_recall: 0.8889\n",
      "Epoch 21/100\n",
      "9/9 [==============================] - 1s 88ms/step - loss: 2.4020e-04 - accuracy: 1.0000 - f1_score: 1.0000 - precision: 0.9600 - recall: 1.0000 - val_loss: 1.0938 - val_accuracy: 0.8889 - val_f1_score: 0.8797 - val_precision: 0.8000 - val_recall: 0.8889\n",
      "Epoch 22/100\n",
      "9/9 [==============================] - 1s 87ms/step - loss: 1.4907e-04 - accuracy: 1.0000 - f1_score: 1.0000 - precision: 0.9474 - recall: 1.0000 - val_loss: 1.1115 - val_accuracy: 0.8889 - val_f1_score: 0.8797 - val_precision: 0.8205 - val_recall: 0.8889\n",
      "Epoch 23/100\n",
      "9/9 [==============================] - 1s 86ms/step - loss: 1.6504e-04 - accuracy: 1.0000 - f1_score: 1.0000 - precision: 0.9664 - recall: 1.0000 - val_loss: 1.1328 - val_accuracy: 0.8889 - val_f1_score: 0.8797 - val_precision: 0.8421 - val_recall: 0.8889\n",
      "Epoch 24/100\n",
      "9/9 [==============================] - 1s 87ms/step - loss: 1.9017e-04 - accuracy: 1.0000 - f1_score: 1.0000 - precision: 0.9600 - recall: 1.0000 - val_loss: 1.1672 - val_accuracy: 0.8889 - val_f1_score: 0.8797 - val_precision: 0.8421 - val_recall: 0.8889\n",
      "Epoch 25/100\n",
      "9/9 [==============================] - 1s 88ms/step - loss: 1.0451e-04 - accuracy: 1.0000 - f1_score: 1.0000 - precision: 0.9730 - recall: 1.0000 - val_loss: 1.2088 - val_accuracy: 0.8889 - val_f1_score: 0.8797 - val_precision: 0.8205 - val_recall: 0.8889\n",
      "Epoch 26/100\n",
      "9/9 [==============================] - 1s 87ms/step - loss: 1.1325e-04 - accuracy: 1.0000 - f1_score: 1.0000 - precision: 0.9730 - recall: 1.0000 - val_loss: 1.2438 - val_accuracy: 0.8889 - val_f1_score: 0.8797 - val_precision: 0.8205 - val_recall: 0.8889\n",
      "Epoch 27/100\n",
      "9/9 [==============================] - 1s 87ms/step - loss: 8.7545e-05 - accuracy: 1.0000 - f1_score: 1.0000 - precision: 0.9536 - recall: 1.0000 - val_loss: 1.2524 - val_accuracy: 0.8889 - val_f1_score: 0.8797 - val_precision: 0.8421 - val_recall: 0.8889\n",
      "Epoch 28/100\n",
      "9/9 [==============================] - 1s 88ms/step - loss: 3.6353e-05 - accuracy: 1.0000 - f1_score: 1.0000 - precision: 0.9730 - recall: 1.0000 - val_loss: 1.2527 - val_accuracy: 0.8889 - val_f1_score: 0.8797 - val_precision: 0.8421 - val_recall: 0.8889\n",
      "Epoch 29/100\n",
      "9/9 [==============================] - 1s 87ms/step - loss: 8.5353e-05 - accuracy: 1.0000 - f1_score: 1.0000 - precision: 0.9536 - recall: 1.0000 - val_loss: 1.2477 - val_accuracy: 0.8889 - val_f1_score: 0.8797 - val_precision: 0.8421 - val_recall: 0.8889\n",
      "Epoch 30/100\n",
      "9/9 [==============================] - 1s 87ms/step - loss: 5.7547e-05 - accuracy: 1.0000 - f1_score: 1.0000 - precision: 0.9600 - recall: 1.0000 - val_loss: 1.2392 - val_accuracy: 0.8889 - val_f1_score: 0.8797 - val_precision: 0.8421 - val_recall: 0.8889\n",
      "Epoch 31/100\n",
      "9/9 [==============================] - 1s 87ms/step - loss: 4.8817e-05 - accuracy: 1.0000 - f1_score: 1.0000 - precision: 0.9796 - recall: 1.0000 - val_loss: 1.2519 - val_accuracy: 0.8889 - val_f1_score: 0.8797 - val_precision: 0.8421 - val_recall: 0.8889\n",
      "Epoch 32/100\n",
      "9/9 [==============================] - 1s 88ms/step - loss: 3.1413e-05 - accuracy: 1.0000 - f1_score: 1.0000 - precision: 0.9796 - recall: 1.0000 - val_loss: 1.2653 - val_accuracy: 0.8889 - val_f1_score: 0.8797 - val_precision: 0.8421 - val_recall: 0.8889\n",
      "Epoch 33/100\n",
      "9/9 [==============================] - 1s 90ms/step - loss: 8.2291e-05 - accuracy: 1.0000 - f1_score: 1.0000 - precision: 0.9536 - recall: 1.0000 - val_loss: 1.2847 - val_accuracy: 0.8889 - val_f1_score: 0.8797 - val_precision: 0.8421 - val_recall: 0.8889\n",
      "1/1 [==============================] - 0s 154ms/step\n",
      "INFO:tensorflow:Assets written to: /tmp/tmpkxkah1wa/model/data/model/assets\n"
     ]
    },
    {
     "name": "stderr",
     "output_type": "stream",
     "text": [
      "INFO:tensorflow:Assets written to: /tmp/tmpkxkah1wa/model/data/model/assets\n"
     ]
    }
   ],
   "source": [
    "# Define the MLflow experiment\n",
    "experiment_name = \"DCA_SA3CL_onVGG16_V3\"\n",
    "experiment = mlflow.set_experiment(experiment_name)\n",
    "\n",
    "# Define paths\n",
    "checkpoint_dir = './models/checkpoints/'\n",
    "model_file = f'./models/model_{experiment_name+experiment.experiment_id}.keras'\n",
    "os.makedirs( checkpoint_dir + experiment_name, exist_ok=True)\n",
    "checkpoint_file = checkpoint_dir + experiment_name\n",
    "\n",
    "# define callbacks\n",
    "early_stopping = tf.keras.callbacks.EarlyStopping(\n",
    "    monitor='val_f1_score', \n",
    "    patience=patience, \n",
    "    mode='max',\n",
    "    restore_best_weights=True\n",
    ")\n",
    "\n",
    "checkpoint = tf.keras.callbacks.ModelCheckpoint(\n",
    "    checkpoint_file, \n",
    "    monitor=\"val_f1_score\",\n",
    "    mode=\"max\", \n",
    "    save_best_only=True,\n",
    "    verbose=0\n",
    ")\n",
    "\n",
    "# Train the model\n",
    "mlflow.tensorflow.autolog()\n",
    "with mlflow.start_run(experiment_id=experiment.experiment_id) as run:\n",
    "    mlflow.log_params({\n",
    "        \"learning_rate\": lr,\n",
    "        \"dilation_rate\": dilation_rate,\n",
    "        \"attention_units\": attention_units,\n",
    "        \"num_classes\": num_classes,\n",
    "        \"input_shape\": input_shape,\n",
    "        \"input_transform\": input_transform,\n",
    "        \"batch_size\": batch_size,\n",
    "        \"patience\": patience,\n",
    "        \"num_epochs\": num_epochs,\n",
    "        \"val_split\": val_split\n",
    "    })\n",
    "\n",
    "    model.fit(\n",
    "        X_train,\n",
    "        y_train,\n",
    "        validation_data=(X_val, y_val),\n",
    "        batch_size=batch_size,\n",
    "        epochs=num_epochs,\n",
    "        callbacks=[\n",
    "            early_stopping,\n",
    "            checkpoint\n",
    "        ]\n",
    "    )\n",
    "    model.save(model_file)\n",
    "    \n",
    "    test_model = tf.keras.models.load_model(checkpoint_file)\n",
    "    f1_weighted, accuracy, precision, recall = k_fold_evaluation(test_model, X_test, y_test, folds=5)\n",
    "\n",
    "    mlflow.log_metrics({\n",
    "        \"test accuracy\": accuracy,\n",
    "        \"test f1_weighted\": f1_weighted,\n",
    "        \"test precision\": precision,\n",
    "        \"test recall\": recall\n",
    "    })\n",
    "    mlflow.log_artifact(model_file)\n"
   ]
  },
  {
   "cell_type": "code",
   "execution_count": null,
   "metadata": {},
   "outputs": [],
   "source": []
  },
  {
   "cell_type": "code",
   "execution_count": 12,
   "metadata": {},
   "outputs": [],
   "source": [
    "# test_model_file = f'./models/model_DCA_first_try453954341690039783.keras'\n",
    "test_model_file = f'./models/checkpoints/DCA_first_try'\n",
    "\n",
    "test_model = tf.keras.models.load_model(checkpoint_file)\n",
    "# test_model = tf.keras.models.load_model(test_model_file)"
   ]
  },
  {
   "cell_type": "code",
   "execution_count": 13,
   "metadata": {},
   "outputs": [],
   "source": [
    "# Classification Report for each type of attack\n",
    "def print_f1_scores(y_true, y_pred):\n",
    "    report = classification_report(y_true, y_pred, output_dict=True)\n",
    "\n",
    "    for class_label, metric in report.items():\n",
    "        try:\n",
    "            f1_score_float = metric['f1-score']\n",
    "            print(f\"Class {class_label}: F1-score = {round(f1_score_float, 3)}\")\n",
    "        except:\n",
    "            pass"
   ]
  },
  {
   "cell_type": "code",
   "execution_count": 14,
   "metadata": {},
   "outputs": [],
   "source": [
    "# def print_testdata_evaluation(model, train_generator, test_generator, test_df):\n",
    "#     mapping = train_generator.class_indices\n",
    "#     actual = test_df['species'].map(mapping)\n",
    "#     preds = model.predict(test_generator)\n",
    "#     predictions = np.argmax(preds, axis=1)\n",
    "#     accuracy = accuracy_score(actual, predictions)\n",
    "#     # f1_weighted = f1_score(actual, predictions, average='weighted')\n",
    "#     print_f1_scores(actual, predictions)\n",
    "#     print(f\"Test accuracy = {accuracy}\")\n",
    "\n",
    "def print_newdata_evaluation(model, X_test, y_test):\n",
    "    actual = np.argmax(y_test, axis=1)\n",
    "    predictions = model.predict(X_test)\n",
    "    predictions = np.argmax(predictions, axis=1)\n",
    "    accuracy = accuracy_score(actual, predictions)\n",
    "    f1_weighted = f1_score(actual, predictions, average='weighted')\n",
    "    print_f1_scores(actual, predictions)\n",
    "    print(f\"Test accuracy = {accuracy}\")"
   ]
  },
  {
   "cell_type": "markdown",
   "metadata": {},
   "source": []
  },
  {
   "cell_type": "code",
   "execution_count": 26,
   "metadata": {},
   "outputs": [
    {
     "name": "stdout",
     "output_type": "stream",
     "text": [
      "2/2 [==============================] - 0s 156ms/step\n",
      "Class 0: F1-score = 0.923\n",
      "Class 1: F1-score = 0.923\n",
      "Class 2: F1-score = 0.8\n",
      "Class 3: F1-score = 0.933\n",
      "Class macro avg: F1-score = 0.895\n",
      "Class weighted avg: F1-score = 0.91\n",
      "Test accuracy = 0.9130434782608695\n"
     ]
    }
   ],
   "source": [
    "print_newdata_evaluation(test_model, X_test, y_test)"
   ]
  },
  {
   "cell_type": "code",
   "execution_count": 22,
   "metadata": {},
   "outputs": [],
   "source": [
    "def k_fold_evaluation(model, X_test, y_test, folds=5):\n",
    "    kf = StratifiedKFold(n_splits=folds)\n",
    "\n",
    "    f1_scores = []\n",
    "    accuracy_scores = []\n",
    "    precision_scores = []\n",
    "    recall_scores = []\n",
    "    y_test = np.argmax(y_test, axis=1)\n",
    "\n",
    "    for _, test_index in kf.split(X_test, y_test):\n",
    "        features = X_test[test_index]\n",
    "        actual = y_test[test_index]\n",
    "        predictions = model.predict(features, verbose=0)\n",
    "        predictions = np.argmax(predictions, axis=1)\n",
    "        f1_scores.append(f1_score(actual, predictions, average='weighted', zero_division=0))\n",
    "        accuracy_scores.append(accuracy_score(actual, predictions))\n",
    "        precision_scores.append(precision_score(actual, predictions, average='weighted', zero_division=0))\n",
    "        recall_scores.append(recall_score(actual, predictions, average='weighted', zero_division=0))\n",
    "\n",
    "    f1_weighted = np.mean(f1_scores)\n",
    "    accuracy = np.mean(accuracy_scores)\n",
    "    precision = np.mean(precision_scores)\n",
    "    recall = np.mean(recall_scores)\n",
    "\n",
    "    return f1_weighted, accuracy, precision, recall"
   ]
  },
  {
   "cell_type": "code",
   "execution_count": 23,
   "metadata": {},
   "outputs": [
    {
     "data": {
      "text/plain": [
       "(0.8916931216931218,\n",
       " 0.9111111111111111,\n",
       " 0.8955555555555555,\n",
       " 0.9111111111111111)"
      ]
     },
     "execution_count": 23,
     "metadata": {},
     "output_type": "execute_result"
    }
   ],
   "source": [
    "k_fold_evaluation(test_model, X_test, y_test)"
   ]
  },
  {
   "cell_type": "code",
   "execution_count": null,
   "metadata": {},
   "outputs": [],
   "source": []
  }
 ],
 "metadata": {
  "kernelspec": {
   "display_name": ".venv",
   "language": "python",
   "name": "python3"
  },
  "language_info": {
   "codemirror_mode": {
    "name": "ipython",
    "version": 3
   },
   "file_extension": ".py",
   "mimetype": "text/x-python",
   "name": "python",
   "nbconvert_exporter": "python",
   "pygments_lexer": "ipython3",
   "version": "3.10.12"
  }
 },
 "nbformat": 4,
 "nbformat_minor": 2
}
