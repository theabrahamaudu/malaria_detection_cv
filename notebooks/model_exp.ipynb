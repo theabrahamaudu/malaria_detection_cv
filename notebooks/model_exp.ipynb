{
 "cells": [
  {
   "cell_type": "code",
   "execution_count": 1,
   "metadata": {},
   "outputs": [
    {
     "data": {
      "text/plain": [
       "'/home/abraham-pc/Documents/paid_gigs/malaria_prediction_cv'"
      ]
     },
     "execution_count": 1,
     "metadata": {},
     "output_type": "execute_result"
    }
   ],
   "source": [
    "import os\n",
    "os.chdir('..')\n",
    "os.getcwd()"
   ]
  },
  {
   "cell_type": "code",
   "execution_count": 44,
   "metadata": {},
   "outputs": [],
   "source": [
    "from sklearn.metrics import accuracy_score, classification_report, f1_score"
   ]
  },
  {
   "cell_type": "code",
   "execution_count": 3,
   "metadata": {},
   "outputs": [
    {
     "name": "stderr",
     "output_type": "stream",
     "text": [
      "2024-01-13 12:09:23.214882: I tensorflow/core/util/port.cc:113] oneDNN custom operations are on. You may see slightly different numerical results due to floating-point round-off errors from different computation orders. To turn them off, set the environment variable `TF_ENABLE_ONEDNN_OPTS=0`.\n",
      "2024-01-13 12:09:23.237696: E external/local_xla/xla/stream_executor/cuda/cuda_dnn.cc:9261] Unable to register cuDNN factory: Attempting to register factory for plugin cuDNN when one has already been registered\n",
      "2024-01-13 12:09:23.237722: E external/local_xla/xla/stream_executor/cuda/cuda_fft.cc:607] Unable to register cuFFT factory: Attempting to register factory for plugin cuFFT when one has already been registered\n",
      "2024-01-13 12:09:23.238401: E external/local_xla/xla/stream_executor/cuda/cuda_blas.cc:1515] Unable to register cuBLAS factory: Attempting to register factory for plugin cuBLAS when one has already been registered\n",
      "2024-01-13 12:09:23.242410: I tensorflow/core/platform/cpu_feature_guard.cc:182] This TensorFlow binary is optimized to use available CPU instructions in performance-critical operations.\n",
      "To enable the following instructions: AVX2 AVX_VNNI FMA, in other operations, rebuild TensorFlow with the appropriate compiler flags.\n",
      "2024-01-13 12:09:23.672221: W tensorflow/compiler/tf2tensorrt/utils/py_utils.cc:38] TF-TRT Warning: Could not find TensorRT\n",
      "/home/abraham-pc/Documents/paid_gigs/malaria_prediction_cv/.venv/lib/python3.10/site-packages/tensorflow_addons/utils/tfa_eol_msg.py:23: UserWarning: \n",
      "\n",
      "TensorFlow Addons (TFA) has ended development and introduction of new features.\n",
      "TFA has entered a minimal maintenance and release mode until a planned end of life in May 2024.\n",
      "Please modify downstream libraries to take dependencies from other repositories in our TensorFlow community (e.g. Keras, Keras-CV, and Keras-NLP). \n",
      "\n",
      "For more information see: https://github.com/tensorflow/addons/issues/2807 \n",
      "\n",
      "  warnings.warn(\n"
     ]
    }
   ],
   "source": [
    "import numpy as np\n",
    "import tensorflow as tf\n",
    "from tensorflow.keras.models import Model\n",
    "from tensorflow.keras.layers import Input, Conv2D, Activation, BatchNormalization, MaxPooling2D, GlobalAveragePooling2D, Dense, Multiply, Reshape, Attention, Flatten\n",
    "import tensorflow_addons as tfa\n",
    "from keras_self_attention import SeqSelfAttention \n",
    "import attention as attn\n",
    "import mlflow\n"
   ]
  },
  {
   "cell_type": "code",
   "execution_count": 4,
   "metadata": {},
   "outputs": [
    {
     "name": "stdout",
     "output_type": "stream",
     "text": [
      "Found 144 validated image filenames belonging to 4 classes.\n",
      "Found 36 validated image filenames belonging to 4 classes.\n",
      "Found 46 validated image filenames.\n"
     ]
    }
   ],
   "source": [
    "from src.features.build_features import train_generator, test_generator, val_generator, test_df"
   ]
  },
  {
   "cell_type": "code",
   "execution_count": 5,
   "metadata": {},
   "outputs": [
    {
     "name": "stdout",
     "output_type": "stream",
     "text": [
      "Found 1 GPU(s): [PhysicalDevice(name='/physical_device:GPU:0', device_type='GPU')]\n",
      "Memory growth enabled for all Physical GPUs\n"
     ]
    },
    {
     "name": "stderr",
     "output_type": "stream",
     "text": [
      "2024-01-13 12:09:24.322743: I external/local_xla/xla/stream_executor/cuda/cuda_executor.cc:901] successful NUMA node read from SysFS had negative value (-1), but there must be at least one NUMA node, so returning NUMA node zero. See more at https://github.com/torvalds/linux/blob/v6.0/Documentation/ABI/testing/sysfs-bus-pci#L344-L355\n",
      "2024-01-13 12:09:24.348905: I external/local_xla/xla/stream_executor/cuda/cuda_executor.cc:901] successful NUMA node read from SysFS had negative value (-1), but there must be at least one NUMA node, so returning NUMA node zero. See more at https://github.com/torvalds/linux/blob/v6.0/Documentation/ABI/testing/sysfs-bus-pci#L344-L355\n",
      "2024-01-13 12:09:24.349081: I external/local_xla/xla/stream_executor/cuda/cuda_executor.cc:901] successful NUMA node read from SysFS had negative value (-1), but there must be at least one NUMA node, so returning NUMA node zero. See more at https://github.com/torvalds/linux/blob/v6.0/Documentation/ABI/testing/sysfs-bus-pci#L344-L355\n"
     ]
    }
   ],
   "source": [
    "def configure_gpu():\n",
    "\n",
    "    try:\n",
    "        gpus = tf.config.list_physical_devices('GPU')\n",
    "        print(f\"Found {len(gpus)} GPU(s): {gpus}\")\n",
    "    except Exception as e:\n",
    "        print(\"Error configuring GPU: \\n\", e)\n",
    "        print(\"Training will run on CPU\")\n",
    "\n",
    "    if gpus: # type: ignore\n",
    "        for gpu in gpus:\n",
    "            tf.config.experimental.set_memory_growth(gpu, True)\n",
    "        print(\"Memory growth enabled for all Physical GPUs\")\n",
    "\n",
    "configure_gpu()"
   ]
  },
  {
   "cell_type": "code",
   "execution_count": null,
   "metadata": {},
   "outputs": [],
   "source": []
  },
  {
   "cell_type": "code",
   "execution_count": 6,
   "metadata": {},
   "outputs": [],
   "source": [
    "# Define the model\n",
    "\n",
    "def build_dilated_cnn_with_attention(input_shape, num_classes, dilation_rate, attention_units):\n",
    "    input_tensor = Input(shape=input_shape)\n",
    "\n",
    "    # Dilated CNN block\n",
    "    x = Conv2D(64, (3, 3), dilation_rate=dilation_rate, padding='same')(input_tensor)\n",
    "    x = BatchNormalization()(x)\n",
    "    x = Activation('relu')(x)\n",
    "    \n",
    "    x = Conv2D(128, (3, 3), dilation_rate=dilation_rate, padding='same')(x)\n",
    "    x = BatchNormalization()(x)\n",
    "    x = Activation('relu')(x)\n",
    "    \n",
    "    x = MaxPooling2D((2, 2))(x)\n",
    "\n",
    "    # Attention mechanism\n",
    "    # attention = GlobalAveragePooling2D()(x)\n",
    "    attention = Attention()([x, x])\n",
    "    attention = Dense(attention_units, activation='relu')(attention)\n",
    "    attention = Dense(attention_units, activation='sigmoid')(attention)\n",
    "    attention = Multiply()([x, attention])\n",
    "\n",
    "    # Global average pooling and final dense layer\n",
    "    x = GlobalAveragePooling2D()(attention)\n",
    "    x = Dense(256, activation='relu')(x)\n",
    "    output_tensor = Dense(num_classes, activation='softmax')(x)\n",
    "\n",
    "    # Create the model\n",
    "    model = Model(inputs=input_tensor, outputs=output_tensor)\n",
    "\n",
    "    return model\n",
    "\n",
    "\n",
    "\n"
   ]
  },
  {
   "cell_type": "code",
   "execution_count": 7,
   "metadata": {},
   "outputs": [],
   "source": [
    "# Parameters\n",
    "input_shape = (224, 224, 3)\n",
    "num_classes = 4\n",
    "num_epochs = 100\n",
    "batch_size = 32\n",
    "patience = int(np.sqrt(num_epochs))\n",
    "val_split = 0.1\n",
    "dilation_rate = (2, 2)\n",
    "attention_units = 128"
   ]
  },
  {
   "cell_type": "code",
   "execution_count": 8,
   "metadata": {},
   "outputs": [
    {
     "name": "stdout",
     "output_type": "stream",
     "text": [
      "Model: \"model\"\n",
      "__________________________________________________________________________________________________\n",
      " Layer (type)                Output Shape                 Param #   Connected to                  \n",
      "==================================================================================================\n",
      " input_1 (InputLayer)        [(None, 224, 224, 3)]        0         []                            \n",
      "                                                                                                  \n",
      " conv2d (Conv2D)             (None, 224, 224, 64)         1792      ['input_1[0][0]']             \n",
      "                                                                                                  \n",
      " batch_normalization (Batch  (None, 224, 224, 64)         256       ['conv2d[0][0]']              \n",
      " Normalization)                                                                                   \n",
      "                                                                                                  \n",
      " activation (Activation)     (None, 224, 224, 64)         0         ['batch_normalization[0][0]'] \n",
      "                                                                                                  \n",
      " conv2d_1 (Conv2D)           (None, 224, 224, 128)        73856     ['activation[0][0]']          \n",
      "                                                                                                  \n",
      " batch_normalization_1 (Bat  (None, 224, 224, 128)        512       ['conv2d_1[0][0]']            \n",
      " chNormalization)                                                                                 \n",
      "                                                                                                  \n",
      " activation_1 (Activation)   (None, 224, 224, 128)        0         ['batch_normalization_1[0][0]'\n",
      "                                                                    ]                             \n",
      "                                                                                                  \n",
      " max_pooling2d (MaxPooling2  (None, 112, 112, 128)        0         ['activation_1[0][0]']        \n",
      " D)                                                                                               \n",
      "                                                                                                  \n",
      " attention (Attention)       (None, 112, 112, 128)        0         ['max_pooling2d[0][0]',       \n",
      "                                                                     'max_pooling2d[0][0]']       \n",
      "                                                                                                  \n",
      " dense (Dense)               (None, 112, 112, 128)        16512     ['attention[0][0]']           \n",
      "                                                                                                  \n",
      " dense_1 (Dense)             (None, 112, 112, 128)        16512     ['dense[0][0]']               \n",
      "                                                                                                  \n",
      " multiply (Multiply)         (None, 112, 112, 128)        0         ['max_pooling2d[0][0]',       \n",
      "                                                                     'dense_1[0][0]']             \n",
      "                                                                                                  \n",
      " global_average_pooling2d (  (None, 128)                  0         ['multiply[0][0]']            \n",
      " GlobalAveragePooling2D)                                                                          \n",
      "                                                                                                  \n",
      " dense_2 (Dense)             (None, 256)                  33024     ['global_average_pooling2d[0][\n",
      "                                                                    0]']                          \n",
      "                                                                                                  \n",
      " dense_3 (Dense)             (None, 4)                    1028      ['dense_2[0][0]']             \n",
      "                                                                                                  \n",
      "==================================================================================================\n",
      "Total params: 143492 (560.52 KB)\n",
      "Trainable params: 143108 (559.02 KB)\n",
      "Non-trainable params: 384 (1.50 KB)\n",
      "__________________________________________________________________________________________________\n"
     ]
    },
    {
     "name": "stderr",
     "output_type": "stream",
     "text": [
      "2024-01-13 12:09:24.376677: I external/local_xla/xla/stream_executor/cuda/cuda_executor.cc:901] successful NUMA node read from SysFS had negative value (-1), but there must be at least one NUMA node, so returning NUMA node zero. See more at https://github.com/torvalds/linux/blob/v6.0/Documentation/ABI/testing/sysfs-bus-pci#L344-L355\n",
      "2024-01-13 12:09:24.376876: I external/local_xla/xla/stream_executor/cuda/cuda_executor.cc:901] successful NUMA node read from SysFS had negative value (-1), but there must be at least one NUMA node, so returning NUMA node zero. See more at https://github.com/torvalds/linux/blob/v6.0/Documentation/ABI/testing/sysfs-bus-pci#L344-L355\n",
      "2024-01-13 12:09:24.376996: I external/local_xla/xla/stream_executor/cuda/cuda_executor.cc:901] successful NUMA node read from SysFS had negative value (-1), but there must be at least one NUMA node, so returning NUMA node zero. See more at https://github.com/torvalds/linux/blob/v6.0/Documentation/ABI/testing/sysfs-bus-pci#L344-L355\n",
      "2024-01-13 12:09:24.430184: I external/local_xla/xla/stream_executor/cuda/cuda_executor.cc:901] successful NUMA node read from SysFS had negative value (-1), but there must be at least one NUMA node, so returning NUMA node zero. See more at https://github.com/torvalds/linux/blob/v6.0/Documentation/ABI/testing/sysfs-bus-pci#L344-L355\n",
      "2024-01-13 12:09:24.430315: I external/local_xla/xla/stream_executor/cuda/cuda_executor.cc:901] successful NUMA node read from SysFS had negative value (-1), but there must be at least one NUMA node, so returning NUMA node zero. See more at https://github.com/torvalds/linux/blob/v6.0/Documentation/ABI/testing/sysfs-bus-pci#L344-L355\n",
      "2024-01-13 12:09:24.430388: I external/local_xla/xla/stream_executor/cuda/cuda_executor.cc:901] successful NUMA node read from SysFS had negative value (-1), but there must be at least one NUMA node, so returning NUMA node zero. See more at https://github.com/torvalds/linux/blob/v6.0/Documentation/ABI/testing/sysfs-bus-pci#L344-L355\n",
      "2024-01-13 12:09:24.430447: I tensorflow/core/common_runtime/gpu/gpu_device.cc:1929] Created device /job:localhost/replica:0/task:0/device:GPU:0 with 4232 MB memory:  -> device: 0, name: NVIDIA GeForce RTX 3060 Laptop GPU, pci bus id: 0000:01:00.0, compute capability: 8.6\n"
     ]
    }
   ],
   "source": [
    "# Build the model\n",
    "model = build_dilated_cnn_with_attention(input_shape, num_classes, dilation_rate, attention_units)\n",
    "\n",
    "# Compile the model and print a summary\n",
    "model.compile(optimizer='adam', loss='categorical_crossentropy', metrics=['accuracy', tfa.metrics.F1Score(average='macro', num_classes=4)])\n",
    "model.summary()"
   ]
  },
  {
   "cell_type": "code",
   "execution_count": 47,
   "metadata": {},
   "outputs": [],
   "source": [
    "def testdata_evaluation(model, train_generator, test_generator, test_df):\n",
    "    mapping = train_generator.class_indices\n",
    "    actual = test_df['species'].map(mapping)\n",
    "    preds = model.predict(test_generator)\n",
    "    predictions = np.argmax(preds, axis=1)\n",
    "    accuracy = accuracy_score(actual, predictions)\n",
    "    f1_weighted = f1_score(actual, predictions, average='weighted')\n",
    "    return float(accuracy), float(f1_weighted)"
   ]
  },
  {
   "cell_type": "code",
   "execution_count": 48,
   "metadata": {},
   "outputs": [
    {
     "name": "stderr",
     "output_type": "stream",
     "text": [
      "2024/01/13 12:41:50 WARNING mlflow.tensorflow: Unrecognized dataset type <class 'keras.src.preprocessing.image.DataFrameIterator'>. Dataset logging skipped.\n",
      "2024/01/13 12:41:50 WARNING mlflow.tensorflow: Unrecognized dataset type <class 'keras.src.preprocessing.image.DataFrameIterator'>. Dataset logging skipped.\n"
     ]
    },
    {
     "name": "stdout",
     "output_type": "stream",
     "text": [
      "Epoch 1/100\n",
      "9/9 [==============================] - ETA: 0s - loss: 0.1495 - accuracy: 0.9583 - f1_score: 0.9586INFO:tensorflow:Assets written to: ./models/checkpoints/DCA_self_attention/assets\n"
     ]
    },
    {
     "name": "stderr",
     "output_type": "stream",
     "text": [
      "INFO:tensorflow:Assets written to: ./models/checkpoints/DCA_self_attention/assets\n"
     ]
    },
    {
     "name": "stdout",
     "output_type": "stream",
     "text": [
      "9/9 [==============================] - 8s 852ms/step - loss: 0.1495 - accuracy: 0.9583 - f1_score: 0.9586 - val_loss: 0.6052 - val_accuracy: 0.7222 - val_f1_score: 0.7267\n",
      "Epoch 2/100\n",
      "9/9 [==============================] - 6s 713ms/step - loss: 0.1104 - accuracy: 0.9792 - f1_score: 0.9760 - val_loss: 1.8400 - val_accuracy: 0.5833 - val_f1_score: 0.5856\n",
      "Epoch 3/100\n",
      "9/9 [==============================] - 6s 723ms/step - loss: 0.0907 - accuracy: 0.9722 - f1_score: 0.9666 - val_loss: 0.8212 - val_accuracy: 0.7222 - val_f1_score: 0.6909\n",
      "Epoch 4/100\n",
      "9/9 [==============================] - 6s 698ms/step - loss: 0.0960 - accuracy: 0.9792 - f1_score: 0.9767 - val_loss: 1.1036 - val_accuracy: 0.6667 - val_f1_score: 0.6437\n",
      "Epoch 5/100\n",
      "9/9 [==============================] - 6s 726ms/step - loss: 0.1763 - accuracy: 0.9375 - f1_score: 0.9356 - val_loss: 0.8028 - val_accuracy: 0.6111 - val_f1_score: 0.4895\n",
      "Epoch 6/100\n",
      "9/9 [==============================] - ETA: 0s - loss: 0.1675 - accuracy: 0.9444 - f1_score: 0.9435INFO:tensorflow:Assets written to: ./models/checkpoints/DCA_self_attention/assets\n"
     ]
    },
    {
     "name": "stderr",
     "output_type": "stream",
     "text": [
      "INFO:tensorflow:Assets written to: ./models/checkpoints/DCA_self_attention/assets\n"
     ]
    },
    {
     "name": "stdout",
     "output_type": "stream",
     "text": [
      "9/9 [==============================] - 7s 791ms/step - loss: 0.1675 - accuracy: 0.9444 - f1_score: 0.9435 - val_loss: 0.7380 - val_accuracy: 0.7500 - val_f1_score: 0.7464\n",
      "Epoch 7/100\n",
      "9/9 [==============================] - 6s 698ms/step - loss: 0.1650 - accuracy: 0.9306 - f1_score: 0.9289 - val_loss: 1.5629 - val_accuracy: 0.7222 - val_f1_score: 0.5985\n",
      "Epoch 8/100\n",
      "9/9 [==============================] - 6s 701ms/step - loss: 0.1297 - accuracy: 0.9514 - f1_score: 0.9555 - val_loss: 1.8810 - val_accuracy: 0.5278 - val_f1_score: 0.4232\n",
      "Epoch 9/100\n",
      "9/9 [==============================] - 6s 714ms/step - loss: 0.1587 - accuracy: 0.9375 - f1_score: 0.9349 - val_loss: 1.1419 - val_accuracy: 0.7222 - val_f1_score: 0.5974\n",
      "Epoch 10/100\n",
      "9/9 [==============================] - 6s 719ms/step - loss: 0.0952 - accuracy: 0.9583 - f1_score: 0.9611 - val_loss: 1.4743 - val_accuracy: 0.5000 - val_f1_score: 0.5171\n",
      "Epoch 11/100\n",
      "9/9 [==============================] - ETA: 0s - loss: 0.0945 - accuracy: 0.9722 - f1_score: 0.9768INFO:tensorflow:Assets written to: ./models/checkpoints/DCA_self_attention/assets\n"
     ]
    },
    {
     "name": "stderr",
     "output_type": "stream",
     "text": [
      "INFO:tensorflow:Assets written to: ./models/checkpoints/DCA_self_attention/assets\n"
     ]
    },
    {
     "name": "stdout",
     "output_type": "stream",
     "text": [
      "9/9 [==============================] - 7s 807ms/step - loss: 0.0945 - accuracy: 0.9722 - f1_score: 0.9768 - val_loss: 1.0364 - val_accuracy: 0.8889 - val_f1_score: 0.8943\n",
      "Epoch 12/100\n",
      "9/9 [==============================] - 6s 704ms/step - loss: 0.0866 - accuracy: 0.9792 - f1_score: 0.9789 - val_loss: 1.3429 - val_accuracy: 0.7778 - val_f1_score: 0.7119\n",
      "Epoch 13/100\n",
      "9/9 [==============================] - 7s 716ms/step - loss: 0.0908 - accuracy: 0.9722 - f1_score: 0.9656 - val_loss: 0.9889 - val_accuracy: 0.8889 - val_f1_score: 0.8943\n",
      "Epoch 14/100\n",
      "9/9 [==============================] - 6s 713ms/step - loss: 0.1241 - accuracy: 0.9306 - f1_score: 0.9246 - val_loss: 1.3337 - val_accuracy: 0.6389 - val_f1_score: 0.5268\n",
      "Epoch 15/100\n",
      "9/9 [==============================] - 6s 712ms/step - loss: 0.1016 - accuracy: 0.9514 - f1_score: 0.9527 - val_loss: 1.1834 - val_accuracy: 0.7778 - val_f1_score: 0.7675\n",
      "Epoch 16/100\n",
      "9/9 [==============================] - 6s 719ms/step - loss: 0.0747 - accuracy: 0.9792 - f1_score: 0.9827 - val_loss: 1.2141 - val_accuracy: 0.8333 - val_f1_score: 0.8298\n",
      "Epoch 17/100\n",
      "9/9 [==============================] - 7s 711ms/step - loss: 0.1058 - accuracy: 0.9653 - f1_score: 0.9672 - val_loss: 0.7773 - val_accuracy: 0.8611 - val_f1_score: 0.8722\n",
      "Epoch 18/100\n",
      "9/9 [==============================] - 6s 713ms/step - loss: 0.1024 - accuracy: 0.9653 - f1_score: 0.9633 - val_loss: 1.2328 - val_accuracy: 0.7222 - val_f1_score: 0.5907\n",
      "Epoch 19/100\n",
      "9/9 [==============================] - 6s 704ms/step - loss: 0.0891 - accuracy: 0.9722 - f1_score: 0.9732 - val_loss: 1.3362 - val_accuracy: 0.6944 - val_f1_score: 0.5641\n",
      "Epoch 20/100\n",
      "9/9 [==============================] - 7s 714ms/step - loss: 0.1015 - accuracy: 0.9653 - f1_score: 0.9671 - val_loss: 0.7961 - val_accuracy: 0.8056 - val_f1_score: 0.8139\n",
      "Epoch 21/100\n",
      "9/9 [==============================] - 6s 700ms/step - loss: 0.1099 - accuracy: 0.9583 - f1_score: 0.9623 - val_loss: 1.1805 - val_accuracy: 0.6111 - val_f1_score: 0.4973\n"
     ]
    },
    {
     "name": "stderr",
     "output_type": "stream",
     "text": [
      "2024/01/13 12:44:08 WARNING mlflow.tensorflow: Failed to infer model signature: could not sample data to infer model signature: '>=' not supported between instances of 'slice' and 'int'\n",
      "2024/01/13 12:44:08 WARNING mlflow.tensorflow: You are saving a TensorFlow Core model or Keras model without a signature. Inference with mlflow.pyfunc.spark_udf() will not work unless the model's pyfunc representation accepts pandas DataFrames as inference inputs.\n"
     ]
    },
    {
     "name": "stdout",
     "output_type": "stream",
     "text": [
      "INFO:tensorflow:Assets written to: /tmp/tmpatdjlx_0/model/data/model/assets\n"
     ]
    },
    {
     "name": "stderr",
     "output_type": "stream",
     "text": [
      "INFO:tensorflow:Assets written to: /tmp/tmpatdjlx_0/model/data/model/assets\n"
     ]
    },
    {
     "name": "stdout",
     "output_type": "stream",
     "text": [
      "3/3 [==============================] - 1s 379ms/step\n"
     ]
    }
   ],
   "source": [
    "# Define the MLflow experiment\n",
    "experiment_name = \"DCA_self_attention\"\n",
    "experiment = mlflow.set_experiment(experiment_name)\n",
    "\n",
    "# Define paths\n",
    "checkpoint_dir = './models/checkpoints/'\n",
    "model_file = f'./models/model_{experiment_name+experiment.experiment_id}.keras'\n",
    "os.makedirs( checkpoint_dir + experiment_name, exist_ok=True)\n",
    "checkpoint_file = checkpoint_dir + experiment_name\n",
    "\n",
    "# define callbacks\n",
    "early_stopping = tf.keras.callbacks.EarlyStopping(\n",
    "    monitor='val_f1_score', \n",
    "    patience=patience, \n",
    "    mode='max',\n",
    "    restore_best_weights=True\n",
    ")\n",
    "\n",
    "checkpoint = tf.keras.callbacks.ModelCheckpoint(\n",
    "    checkpoint_file, \n",
    "    monitor=\"val_f1_score\",\n",
    "    mode=\"max\", \n",
    "    save_best_only=True,\n",
    "    verbose=0\n",
    ")\n",
    "\n",
    "# Train the model\n",
    "with mlflow.start_run(experiment_id=experiment.experiment_id):\n",
    "    mlflow.log_params({\n",
    "        \"dilation_rate\": dilation_rate,\n",
    "        \"attention_units\": attention_units,\n",
    "        \"num_classes\": num_classes,\n",
    "        \"input_shape\": input_shape,\n",
    "        # \"batch_size\": batch_size,\n",
    "        \"patience\": patience,\n",
    "        \"num_epochs\": num_epochs,\n",
    "        \"val_split\": val_split\n",
    "    })\n",
    "\n",
    "    model.fit(\n",
    "        train_generator,\n",
    "        batch_size=batch_size,\n",
    "        epochs=num_epochs,\n",
    "        validation_data=val_generator,\n",
    "        callbacks=[\n",
    "            early_stopping,\n",
    "            checkpoint\n",
    "        ]\n",
    "    )\n",
    "    model.save(model_file)\n",
    "    mlflow.tensorflow.autolog()\n",
    "    accuracy, f1_weighted = testdata_evaluation(model, train_generator, test_generator, test_df)\n",
    "    mlflow.log_metrics({\n",
    "        \"test accuracy\": accuracy,\n",
    "        \"test f1_weighted\": f1_weighted\n",
    "    })\n",
    "    mlflow.log_artifact(model_file)\n"
   ]
  },
  {
   "cell_type": "code",
   "execution_count": null,
   "metadata": {},
   "outputs": [],
   "source": []
  },
  {
   "cell_type": "code",
   "execution_count": 49,
   "metadata": {},
   "outputs": [
    {
     "name": "stdout",
     "output_type": "stream",
     "text": [
      "3/3 [==============================] - 1s 423ms/step\n"
     ]
    }
   ],
   "source": [
    "# best_model = tf.keras.models.load_model(checkpoint_file)\n",
    "preds = model.predict(test_generator)"
   ]
  },
  {
   "cell_type": "code",
   "execution_count": 50,
   "metadata": {},
   "outputs": [
    {
     "data": {
      "text/plain": [
       "array([[7.10999739e-05, 7.84875304e-02, 2.12693983e-03, 9.19314444e-01],\n",
       "       [1.84933364e-04, 2.13963971e-01, 7.05408603e-02, 7.15310276e-01],\n",
       "       [1.76824717e-04, 9.96332884e-01, 4.56311900e-05, 3.44461040e-03],\n",
       "       [7.79897800e-06, 1.22584903e-03, 9.72494599e-05, 9.98669147e-01],\n",
       "       [3.02500161e-03, 1.57949686e-01, 7.16817379e-02, 7.67343581e-01],\n",
       "       [5.91811299e-01, 3.91916126e-01, 3.53719294e-03, 1.27354069e-02],\n",
       "       [8.88795435e-01, 1.04605623e-01, 3.38223414e-04, 6.26072474e-03],\n",
       "       [1.67701964e-03, 5.51013218e-04, 9.76245463e-01, 2.15264913e-02],\n",
       "       [1.89687952e-01, 3.15860622e-02, 1.99848831e-01, 5.78877151e-01],\n",
       "       [1.28906313e-03, 9.90541637e-01, 7.65050587e-04, 7.40418257e-03],\n",
       "       [9.98642385e-01, 1.34481699e-03, 3.50061612e-07, 1.24972094e-05],\n",
       "       [1.56073794e-02, 9.75244999e-01, 2.14831925e-05, 9.12621710e-03],\n",
       "       [9.98974204e-01, 1.01291016e-03, 3.13667016e-07, 1.25641809e-05],\n",
       "       [2.55360719e-05, 9.64505613e-01, 1.00120060e-05, 3.54588963e-02],\n",
       "       [3.41758162e-01, 6.58182442e-01, 5.37687674e-06, 5.39568027e-05],\n",
       "       [6.07875222e-03, 7.16902673e-01, 5.89451939e-02, 2.18073353e-01],\n",
       "       [1.60468870e-03, 5.41611109e-04, 9.80329514e-01, 1.75242107e-02],\n",
       "       [3.21742300e-05, 1.74515444e-04, 4.50801998e-02, 9.54713166e-01],\n",
       "       [1.26211482e-04, 3.30357143e-04, 1.15020245e-01, 8.84523153e-01],\n",
       "       [3.14497129e-06, 9.44287633e-04, 4.75209765e-03, 9.94300485e-01],\n",
       "       [2.66843677e-01, 5.96956730e-01, 1.13439557e-04, 1.36086166e-01],\n",
       "       [7.18186349e-02, 9.27748263e-01, 5.36527878e-05, 3.79410456e-04],\n",
       "       [6.43020176e-05, 4.60555762e-01, 4.60691564e-03, 5.34773052e-01],\n",
       "       [1.67758472e-03, 9.89884973e-01, 8.81902117e-04, 7.55558396e-03],\n",
       "       [2.61232350e-02, 9.60161328e-01, 8.95755948e-05, 1.36258760e-02],\n",
       "       [9.14241828e-05, 6.65173540e-03, 1.19993638e-04, 9.93136764e-01],\n",
       "       [8.85466039e-01, 1.09075032e-01, 2.74086231e-03, 2.71807797e-03],\n",
       "       [6.95042685e-02, 4.06868570e-02, 2.44386330e-01, 6.45422578e-01],\n",
       "       [1.56632587e-02, 9.75162685e-01, 2.15200107e-05, 9.15247016e-03],\n",
       "       [5.03559643e-03, 1.05796475e-03, 9.52326834e-01, 4.15796041e-02],\n",
       "       [1.32911652e-01, 2.64951419e-02, 3.36487919e-01, 5.04105270e-01],\n",
       "       [9.85004753e-03, 4.86758258e-03, 3.50345045e-01, 6.34937286e-01],\n",
       "       [6.51658775e-06, 4.58993862e-04, 1.08364384e-06, 9.99533415e-01],\n",
       "       [7.82505795e-03, 9.77574170e-01, 8.79001527e-06, 1.45919714e-02],\n",
       "       [8.83107787e-05, 5.37794381e-02, 6.80662808e-04, 9.45451558e-01],\n",
       "       [1.09958835e-03, 9.89635289e-01, 1.04107731e-03, 8.22399929e-03],\n",
       "       [7.33428242e-05, 6.17570504e-06, 9.95876133e-01, 4.04429995e-03],\n",
       "       [1.79690332e-03, 1.86973587e-01, 9.41285193e-02, 7.17101038e-01],\n",
       "       [8.77491459e-02, 6.17524922e-01, 2.11350457e-03, 2.92612374e-01],\n",
       "       [9.79417026e-01, 1.99917275e-02, 1.17631847e-04, 4.73659835e-04],\n",
       "       [9.74350333e-01, 2.55167279e-02, 6.45700175e-06, 1.26418046e-04],\n",
       "       [1.11064270e-04, 2.20967428e-04, 2.42988706e-01, 7.56679296e-01],\n",
       "       [8.71677160e-01, 1.25458747e-01, 1.22647313e-03, 1.63755473e-03],\n",
       "       [3.28827417e-04, 9.96854126e-01, 9.04864719e-05, 2.72660959e-03],\n",
       "       [7.02064574e-01, 2.87260741e-01, 1.89309462e-03, 8.78164265e-03],\n",
       "       [1.34968170e-04, 8.94915499e-03, 8.84443434e-05, 9.90827382e-01]],\n",
       "      dtype=float32)"
      ]
     },
     "execution_count": 50,
     "metadata": {},
     "output_type": "execute_result"
    }
   ],
   "source": [
    "preds"
   ]
  },
  {
   "cell_type": "code",
   "execution_count": 51,
   "metadata": {},
   "outputs": [],
   "source": [
    "# Classification Report for each type of attack\n",
    "def print_f1_scores(y_true, y_pred):\n",
    "    report = classification_report(y_true, y_pred, output_dict=True)\n",
    "\n",
    "    for class_label, metric in report.items():\n",
    "        try:\n",
    "            f1_score_float = metric['f1-score']\n",
    "            print(f\"Class {class_label}: F1-score = {round(f1_score_float, 3)}\")\n",
    "        except:\n",
    "            pass"
   ]
  },
  {
   "cell_type": "code",
   "execution_count": 52,
   "metadata": {},
   "outputs": [],
   "source": [
    "predictions = np.argmax(preds, axis=1)"
   ]
  },
  {
   "cell_type": "code",
   "execution_count": 53,
   "metadata": {},
   "outputs": [
    {
     "data": {
      "text/plain": [
       "array([3, 3, 1, 3, 3, 0, 0, 2, 3, 1, 0, 1, 0, 1, 1, 1, 2, 3, 3, 3, 1, 1,\n",
       "       3, 1, 1, 3, 0, 3, 1, 2, 3, 3, 3, 1, 3, 1, 2, 3, 1, 0, 0, 3, 0, 1,\n",
       "       0, 3])"
      ]
     },
     "execution_count": 53,
     "metadata": {},
     "output_type": "execute_result"
    }
   ],
   "source": [
    "predictions"
   ]
  },
  {
   "cell_type": "code",
   "execution_count": 54,
   "metadata": {},
   "outputs": [],
   "source": [
    "mapping = train_generator.class_indices"
   ]
  },
  {
   "cell_type": "code",
   "execution_count": 55,
   "metadata": {},
   "outputs": [],
   "source": [
    "actual = test_df['species'].map(mapping)"
   ]
  },
  {
   "cell_type": "code",
   "execution_count": 56,
   "metadata": {},
   "outputs": [
    {
     "data": {
      "text/plain": [
       "31    3\n",
       "27    2\n",
       "28    3\n",
       "22    0\n",
       "12    3\n",
       "51    0\n",
       "22    3\n",
       "6     1\n",
       "7     0\n",
       "1     2\n",
       "11    2\n",
       "14    3\n",
       "41    3\n",
       "50    3\n",
       "1     1\n",
       "6     3\n",
       "10    0\n",
       "51    3\n",
       "13    1\n",
       "46    0\n",
       "38    0\n",
       "14    0\n",
       "34    1\n",
       "42    3\n",
       "7     1\n",
       "8     2\n",
       "43    1\n",
       "49    1\n",
       "16    1\n",
       "28    0\n",
       "7     2\n",
       "35    1\n",
       "5     1\n",
       "39    1\n",
       "6     2\n",
       "74    3\n",
       "62    3\n",
       "18    0\n",
       "56    0\n",
       "42    0\n",
       "58    3\n",
       "35    3\n",
       "3     1\n",
       "20    0\n",
       "3     3\n",
       "46    1\n",
       "Name: species, dtype: int64"
      ]
     },
     "execution_count": 56,
     "metadata": {},
     "output_type": "execute_result"
    }
   ],
   "source": [
    "actual"
   ]
  },
  {
   "cell_type": "code",
   "execution_count": 57,
   "metadata": {},
   "outputs": [
    {
     "data": {
      "text/plain": [
       "0.21739130434782608"
      ]
     },
     "execution_count": 57,
     "metadata": {},
     "output_type": "execute_result"
    }
   ],
   "source": [
    "accuracy = accuracy_score(actual, predictions)\n",
    "accuracy"
   ]
  },
  {
   "cell_type": "code",
   "execution_count": 58,
   "metadata": {},
   "outputs": [
    {
     "data": {
      "text/plain": [
       "{'Falciparum': 0, 'Malariae': 1, 'Ovale': 2, 'Vivax': 3}"
      ]
     },
     "execution_count": 58,
     "metadata": {},
     "output_type": "execute_result"
    }
   ],
   "source": [
    "mapping"
   ]
  },
  {
   "cell_type": "code",
   "execution_count": 59,
   "metadata": {},
   "outputs": [
    {
     "name": "stdout",
     "output_type": "stream",
     "text": [
      "Class 0: F1-score = 0.19\n",
      "Class 1: F1-score = 0.286\n",
      "Class 2: F1-score = 0.0\n",
      "Class 3: F1-score = 0.242\n",
      "Class macro avg: F1-score = 0.18\n",
      "Class weighted avg: F1-score = 0.209\n"
     ]
    }
   ],
   "source": [
    "print_f1_scores(actual, predictions)"
   ]
  },
  {
   "cell_type": "code",
   "execution_count": 46,
   "metadata": {},
   "outputs": [
    {
     "data": {
      "text/plain": [
       "0.16703839638622248"
      ]
     },
     "execution_count": 46,
     "metadata": {},
     "output_type": "execute_result"
    }
   ],
   "source": [
    "f1_score(actual, predictions, average='weighted')"
   ]
  },
  {
   "cell_type": "code",
   "execution_count": null,
   "metadata": {},
   "outputs": [],
   "source": []
  }
 ],
 "metadata": {
  "kernelspec": {
   "display_name": ".venv",
   "language": "python",
   "name": "python3"
  },
  "language_info": {
   "codemirror_mode": {
    "name": "ipython",
    "version": 3
   },
   "file_extension": ".py",
   "mimetype": "text/x-python",
   "name": "python",
   "nbconvert_exporter": "python",
   "pygments_lexer": "ipython3",
   "version": "3.10.12"
  }
 },
 "nbformat": 4,
 "nbformat_minor": 2
}
